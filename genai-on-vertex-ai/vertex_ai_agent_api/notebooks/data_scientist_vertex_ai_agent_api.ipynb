{
  "cells": [
    {
      "cell_type": "code",
      "execution_count": null,
      "metadata": {
        "id": "Js_h8jjWM1mu"
      },
      "outputs": [],
      "source": [
        "# Copyright 2024 Google LLC\n",
        "#\n",
        "# Licensed under the Apache License, Version 2.0 (the \"License\");\n",
        "# you may not use this file except in compliance with the License.\n",
        "# You may obtain a copy of the License at\n",
        "#\n",
        "#     https://www.apache.org/licenses/LICENSE-2.0\n",
        "#\n",
        "# Unless required by applicable law or agreed to in writing, software\n",
        "# distributed under the License is distributed on an \"AS IS\" BASIS,\n",
        "# WITHOUT WARRANTIES OR CONDITIONS OF ANY KIND, either express or implied.\n",
        "# See the License for the specific language governing permissions and\n",
        "# limitations under the License."
      ]
    },
    {
      "cell_type": "markdown",
      "source": [
        "If you are using data you didn't synthesize, put the license or an appropriate link here. E.g.:\n",
        "\n",
        "See [Google Cloud Marketplace](https://console.cloud.google.com/marketplace/product/city-of-new-york/nyc-311) for terms of use of the dataset featured in this notebook."
      ],
      "metadata": {
        "id": "si1MarbUIZ_k"
      }
    },
    {
      "cell_type": "markdown",
      "source": [
        "# Creating a Data Scientist Agent using the Vertex AI Agent API\n"
      ],
      "metadata": {
        "id": "ZJ5caKL2Ff2B"
      }
    },
    {
      "cell_type": "markdown",
      "source": [
        "<table align=\"left\">\n",
        "  <td style=\"text-align: center\">\n",
        "    <a href=\"https://colab.research.google.com/github/GoogleCloudPlatform/applied-ai-engineering-samples/blob/main/genai-on-vertex-ai/vertex_ai_agent_api/notebooks/data_scientist_vertex_ai_agent_api.ipynb\">\n",
        "      <img src=\"https://cloud.google.com/ml-engine/images/colab-logo-32px.png\" alt=\"Google Colaboratory logo\"><br> Open in Colab\n",
        "    </a>\n",
        "  </td>\n",
        "  <td style=\"text-align: center\">\n",
        "    <a href=\"https://console.cloud.google.com/vertex-ai/colab/import/https:%2F%2Fraw.githubusercontent.com%2FGoogleCloudPlatform%2Fapplied-ai-engineering-samples%2Fmain%2Fgenai-on-vertex-ai%2Fvertex_ai_agent_api%2Fnotebooks%2Fdata_scientist_vertex_ai_agent_api.ipynb\">\n",
        "      <img width=\"32px\" src=\"https://lh3.googleusercontent.com/JmcxdQi-qOpctIvWKgPtrzZdJJK-J3sWE1RsfjZNwshCFgE_9fULcNpuXYTilIR2hjwN\" alt=\"Google Cloud Colab Enterprise logo\"><br> Open in Colab Enterprise\n",
        "    </a>\n",
        "  </td>    \n",
        "  <td style=\"text-align: center\">\n",
        "    <a href=\"https://console.cloud.google.com/vertex-ai/workbench/deploy-notebook?download_url=https://raw.githubusercontent.com/GoogleCloudPlatform/applied-ai-engineering-samples/main/genai-on-vertex-ai/vertex_ai_agent_api/notebooks/data_scientist_vertex_ai_agent_api.ipynb\">\n",
        "      <img src=\"https://lh3.googleusercontent.com/UiNooY4LUgW_oTvpsNhPpQzsstV5W8F7rYgxgGBD85cWJoLmrOzhVs_ksK_vgx40SHs7jCqkTkCk=e14-rj-sc0xffffff-h130-w32\" alt=\"Vertex AI logo\"><br> Open in Vertex AI Workbench\n",
        "    </a>\n",
        "  </td>\n",
        "  <td style=\"text-align: center\">\n",
        "    <a href=\"https://github.com/GoogleCloudPlatform/applied-ai-engineering-samples/blob/main/genai-on-vertex-ai/vertex_ai_agent_api/notebooks/data_scientist_vertex_ai_agent_api.ipynb\">\n",
        "      <img src=\"https://cloud.google.com/ml-engine/images/github-logo-32px.png\" alt=\"GitHub logo\"><br> View on GitHub\n",
        "    </a>\n",
        "  </td>\n",
        "</table>"
      ],
      "metadata": {
        "id": "5Qj-TzSNGUii"
      }
    },
    {
      "cell_type": "markdown",
      "source": [
        "| | |\n",
        "|----------|-------------|\n",
        "| Author(s)   | Christos Aniftos |\n",
        "| Reviewer(s) | Meltem Subasioglu |\n",
        "| Last updated | 2024 04 10: Initial Publication |\n",
        "| |  |"
      ],
      "metadata": {
        "id": "ocycMnwJGUii"
      }
    },
    {
      "cell_type": "markdown",
      "source": [
        "# Overview\n",
        "\n",
        "This notebook shows how to use the [Vertex AI Agent API](https://cloud.google.com/vertex-ai/generative-ai/docs/agent-api/overview) with [Code Interpreter Extension](https://cloud.google.com/vertex-ai/generative-ai/docs/extensions/code-interpreter) to ingest and analyse data from a CSV file.\n",
        "\n",
        "A data scientist agent with a code interpreter is a powerful tool that simplifies data analysis. Regardless if you are a data analyst or a data scientist, this agent accelerates velocity of data exploration in a conversational format. It's like having a personal data expert assistant who understands your questions and by following your guidance, figures out the best way to analyse your data, performs the analysis, and presents the results in an easy-to-understand way.  This efficient, accurate, and accessible approach uncovers hidden insights, saves you time and effort, and empowers you to make informed decisions based on clear, actionable results.\n",
        "\n",
        "\n",
        "In this notebook you will do the following:\n",
        "- Ingest a CSV data file\n",
        "- Understant the dataset using the agent to explain the data and plot charts\n",
        "- Manipulate the data such us removing columns and replacing missing values\n",
        "- Ask generic statistic questions and explanations\n",
        "- Export your final amended dataset\n",
        "\n",
        "In addition to Vertex AI Agent API, this notebook uses [Code Interpreter extension](https://cloud.google.com/vertex-ai/generative-ai/docs/extensions/code-interpreter). In the last step of this notebook a playground UI based on gradio is provided in order to interrogate your own data using a chat UI."
      ],
      "metadata": {
        "id": "FlkJDD0nGUij"
      }
    },
    {
      "cell_type": "markdown",
      "source": [
        "If you're new to Google Cloud, Vertex AI, or the Vertex AI Agent API you may want to look at the [Getting Started with Vertex AI Agent notebook](https://github.com/GoogleCloudPlatform/applied-ai-engineering-samples/blob/main/genai-on-vertex-ai/vertex_ai_agent_api/notebooks/getting_started_vertex_agent_api.ipynb.ipynb), which contains an overview of how to use Vertex AI Agent through a basic agent example, and troubleshooting tips.\n"
      ],
      "metadata": {
        "id": "ZIBXCGNGfPKL"
      }
    },
    {
      "cell_type": "markdown",
      "source": [
        " ## Vertex AI Agent API\n",
        "\n",
        "[Vertex AI Agent API](https://cloud.google.com/vertex-ai/generative-ai/docs/agent-api/overview) is an API for creating and managing Generative AI systems called \"agents\" that can  reason, plan, and act to perform specific tasks.\n",
        "\n",
        " Vertex AI Agent API offers faster time to market than building agents from scratch while still being flexible and customizable. It handles orchestraction and state management, gives you the benefits of Google's expertise in building reliable AI systems, scales in a secure and responsible way, and seamlessly integrates with other Vertex AI and Google Cloud products."
      ],
      "metadata": {
        "id": "KUXzlvfpn513"
      }
    },
    {
      "cell_type": "markdown",
      "source": [
        "## Using This Notebook\n",
        "\n",
        "Colab is recommended for running this notebook, but it can run in any iPython environment where you can connect to Google Cloud, install pip packages, etc.\n",
        "\n",
        "If you're running outside of Colab and encountering issues, the [Getting Started with Vertex AI Agent notebook](https://github.com/GoogleCloudPlatform/applied-ai-engineering-samples/blob/main/genai-on-vertex-ai/vertex_ai_agent_api/notebooks/getting_started_vertex_agent_api.ipynb.ipynb) has some troubleshooting tips.\n",
        "\n",
        "This tutorial uses the following Google Cloud services and resources:\n",
        "\n",
        "* [Vertex AI Agent API](https://cloud.google.com/vertex-ai/generative-ai/docs/agent-api/overview)\n",
        "* [Code Interpreter Extension](https://cloud.google.com/vertex-ai/generative-ai/docs/extensions/code-interpreter)\n",
        "\n",
        "This notebook has been tested in the following environment:\n",
        "\n",
        "* Python version = 3.10.12 UPDATE\n",
        "* [google-cloud-aiplatform](https://pypi.org/project/google-cloud-aiplatform/) version = 1.5.5\n"
      ],
      "metadata": {
        "id": "uNriTZl70OdV"
      }
    },
    {
      "cell_type": "markdown",
      "source": [
        "## Useful Tips\n",
        "\n",
        "1. This notebook uses Generative AI cababilities. Re-running a cell that uses Generative AI capabilities may produce similar but not identical results.\n",
        "2. Because of #1, it is possible that an output produces errors. If that happens re-run the cell that produced the error. The re-run will likely be bug free.\n",
        "3. The use of Generative AI capabilities is subject to service quotas. Running the notebook using \"Run All\" may exceed your queries per minute (QPM) limitations. Run the notebook manually and if you get a quota error pause for up to 1 minute before retrying that cell. The Vertex AI Agent API defaults to Gemini on the backend and is subject to the Gemini quotas, [view your Gemini quotas here](https://console.cloud.google.com/iam-admin/quotas?pageState=(%22allQuotasTable%22:(%22f%22:%22%255B%257B_22k_22_3A_22_22_2C_22t_22_3A10_2C_22v_22_3A_22_5C_22base_model_5C_22_22%257D_2C%257B_22k_22_3A_22_22_2C_22t_22_3A10_2C_22v_22_3A_22_5C_22gemini_5C_22_22%257D%255D%22%29%29&e=13802955&mods=logs_tg_staging).\n"
      ],
      "metadata": {
        "id": "Ar0aDcql1dxl"
      }
    },
    {
      "cell_type": "markdown",
      "source": [
        "# Setup"
      ],
      "metadata": {
        "id": "PO_tnShTGUik"
      }
    },
    {
      "cell_type": "markdown",
      "source": [
        "## Enable APIs and Set Permissions\n",
        "\n",
        "Enable the [Vertex AI API](https://console.cloud.google.com/flows/enableapi?apiid=aiplatform.googleapis.com)\n",
        "\n",
        "Make sure you have been [granted the roles](https://cloud.google.com/iam/docs/granting-changing-revoking-access) for the GCP project you'll access from this notebook:\n",
        "* [`roles/aiplatform.user`](https://cloud.google.com/vertex-ai/docs/general/access-control#aiplatform.user)\n",
        "\n"
      ],
      "metadata": {
        "id": "XLf5oGqHn_DH"
      }
    },
    {
      "cell_type": "markdown",
      "source": [
        "## Install the Google Cloud Vertex AI Python SDK\n",
        "\n"
      ],
      "metadata": {
        "id": "JdU-qMmbpR8r"
      }
    },
    {
      "cell_type": "code",
      "source": [
        "#TODO: Replace with the public vertex sdk lib when it is released\n",
        "# Remove AUTH from here as with public lib is not needed\n",
        "\n",
        "# Colab authentication.\n",
        "import sys\n",
        "\n",
        "if \"google.colab\" in sys.modules:\n",
        "    from google.colab import auth\n",
        "    auth.authenticate_user()\n",
        "    print('Authenticated')\n",
        "\n",
        "!gsutil cp gs://vertex_agents_private_releases/vertex_agents/google_cloud_aiplatform-1.60.dev20240710+vertex.agents-py2.py3-none-any.whl .\n",
        "!pip install --quiet --user --upgrade --force-reinstall -q google_cloud_aiplatform-1.60.dev20240710+vertex.agents-py2.py3-none-any.whl --no-warn-conflicts\n",
        "!pip install --quiet --user -U \"pandas==2.2.2\"\n",
        "!pip install --quiet --user -U \"numpy<2\"\n",
        "!pip install --quiet --user gradio\n",
        "!pip install --quiet --user pydub"
      ],
      "metadata": {
        "id": "lHEI7wZMhZPd"
      },
      "execution_count": null,
      "outputs": []
    },
    {
      "cell_type": "markdown",
      "metadata": {
        "id": "R5Xep4W9lq-Z"
      },
      "source": [
        "### Restart Runtime\n",
        "\n",
        "You may need to restart your notebook runtime to use the Vertex AI SDK. You can do this by running the cell below, which restarts the current kernel.\n",
        "\n",
        "You may see the restart reported as a crash, but it is working as-intended -- you are merely restarting the runtime.\n",
        "\n",
        "The restart might take a minute or longer. After its restarted, continue to the next step."
      ]
    },
    {
      "cell_type": "code",
      "execution_count": null,
      "metadata": {
        "id": "XRvKdaPDTznN"
      },
      "outputs": [],
      "source": [
        "import IPython\n",
        "\n",
        "app = IPython.Application.instance()\n",
        "app.kernel.do_shutdown(True)"
      ]
    },
    {
      "cell_type": "markdown",
      "metadata": {
        "id": "SbmM4z7FOBpM"
      },
      "source": [
        "<div class=\"alert alert-block alert-warning\">\n",
        "<b>⚠️ The kernel is going to restart. Please wait until it is finished before continuing to the next step. ⚠️</b>\n",
        "</div>\n"
      ]
    },
    {
      "cell_type": "markdown",
      "source": [
        "## Authenticate\n"
      ],
      "metadata": {
        "id": "7plalcaLGUik"
      }
    },
    {
      "cell_type": "code",
      "source": [
        "# Colab authentication.\n",
        "import sys\n",
        "\n",
        "if \"google.colab\" in sys.modules:\n",
        "    from google.colab import auth\n",
        "    auth.authenticate_user()\n",
        "    print(\"Authenticated\")"
      ],
      "metadata": {
        "id": "THYfMKWMGUil"
      },
      "execution_count": null,
      "outputs": []
    },
    {
      "cell_type": "markdown",
      "metadata": {
        "id": "init_aip:mbsdk,all"
      },
      "source": [
        "# Initialize the Google Cloud Vertex AI Python SDK\n",
        "\n"
      ]
    },
    {
      "cell_type": "markdown",
      "metadata": {
        "id": "WReHDGG5g0XY"
      },
      "source": [
        "### Set Your Project ID\n",
        "\n"
      ]
    },
    {
      "cell_type": "code",
      "execution_count": null,
      "metadata": {
        "id": "oM1iC_MfAts1"
      },
      "outputs": [],
      "source": [
        "PROJECT_ID = \"YOUR_PROJECT_ID_HERE\"  # @param {type:\"string\"}"
      ]
    },
    {
      "cell_type": "markdown",
      "metadata": {
        "id": "region"
      },
      "source": [
        "### Set the Region"
      ]
    },
    {
      "cell_type": "code",
      "execution_count": null,
      "metadata": {
        "id": "Cg9uNa6rlyWx"
      },
      "outputs": [],
      "source": [
        "REGION = \"us-central1\"  # @param {type: \"string\"}"
      ]
    },
    {
      "cell_type": "markdown",
      "source": [
        "### Import and Initialize the Vertex AI Python SDK"
      ],
      "metadata": {
        "id": "6-NbHLWtu-iW"
      }
    },
    {
      "cell_type": "code",
      "source": [
        "# TODO: Remove API_ENDPOINT to use default for public prev.\n",
        "\n",
        "import vertexai\n",
        "API_ENDPOINT = 'us-central1-autopush-aiplatform.sandbox.googleapis.com'\n",
        "\n",
        "vertexai.init(project=PROJECT_ID, location=REGION, api_endpoint=API_ENDPOINT)\n"
      ],
      "metadata": {
        "id": "KhnzTqS8iOJC"
      },
      "execution_count": null,
      "outputs": []
    },
    {
      "cell_type": "markdown",
      "source": [
        "# Setup the Code Interpreter Extension\n",
        "Code Interpreter is provided by Google, so you can load it directly. For more information on how you can use the code interpreter extension refer to the official [Code Interpreter Extension documentation](https://cloud.google.com/vertex-ai/generative-ai/docs/extensions/code-interpreter)"
      ],
      "metadata": {
        "id": "5Wi3ZigPrnp8"
      }
    },
    {
      "cell_type": "code",
      "source": [
        "from vertexai.preview import extensions\n",
        "extension_code_interpreter = extensions.Extension.from_hub(\"code_interpreter\")\n",
        "extension_code_interpreter"
      ],
      "metadata": {
        "id": "_58pR8tm--8Z"
      },
      "execution_count": null,
      "outputs": []
    },
    {
      "cell_type": "markdown",
      "source": [
        "Confirm your Code Interpreter extension is registered:"
      ],
      "metadata": {
        "id": "LOVSqSlR_EBu"
      }
    },
    {
      "cell_type": "code",
      "source": [
        "print(\"Name:\", extension_code_interpreter.gca_resource.name)\n",
        "print(\"Display Name:\", extension_code_interpreter.gca_resource.display_name)\n",
        "print(\"Description:\", extension_code_interpreter.gca_resource.description)"
      ],
      "metadata": {
        "id": "asdf7Y_U_CuR"
      },
      "execution_count": null,
      "outputs": []
    },
    {
      "cell_type": "markdown",
      "source": [
        "# Setup the Data Science Agent with Code Interpreter\n",
        "In this section we will create a data science Vertex AI Agent with a code interpreter extension. Agents are able to use Tools to perform specific actions. The data science agent will be able to use the code interpreter extension as a tool to write and execute python code, necessary for performing data operations."
      ],
      "metadata": {
        "id": "_jTqEZB3_ngT"
      }
    },
    {
      "cell_type": "code",
      "source": [
        "from google.cloud.aiplatform.private_preview.vertex_agents.app import App, Session\n",
        "from google.cloud.aiplatform.private_preview.vertex_agents.agent import Agent\n",
        "\n",
        "from google.cloud import aiplatform\n",
        "\n",
        "DISPLAY_NAME = \"Data Science Agent\"\n",
        "INSTRUCTIONS = \"\"\"\n",
        "You are a senior data scientist! Please help users analyse data, generate graphs and provide explanations on why you are performing specific actions.\n",
        "For complicated data operations only respond based on the response of the tools you have available. For basic knowledge you can use your own embedded knowledge\n",
        "\n",
        "\n",
        "Instructions:\n",
        "- Use code interpreter to do operations on the data like analysis on manipulation of the data that requires coding\n",
        "\"\"\"\n",
        "\n",
        "app = App.create_single_agent_app( agent_display_name=DISPLAY_NAME,\n",
        "                                   instructions=INSTRUCTIONS,\n",
        "                                   extensions={'Code Interpreter':extension_code_interpreter})"
      ],
      "metadata": {
        "id": "ZCti-l0G_n3h"
      },
      "execution_count": null,
      "outputs": []
    },
    {
      "cell_type": "markdown",
      "source": [
        "# Vertex AI Agent Helper Functions\n",
        "\n",
        "These functions are optional when using Vertex AI agents but make it easier to visualise the responses from Vertex AI Agents"
      ],
      "metadata": {
        "id": "Ccsww1IaCKtN"
      }
    },
    {
      "cell_type": "markdown",
      "source": [
        "## `response_to_html`\n",
        "\n",
        "`response_to_html` processes the response from the agent into an HTML format. The response might contain images and text. HTML allows easier visualisation of such a response.\n",
        "\n",
        "\n",
        "\n",
        "**To use this functionality** call `response_to_html(response)`, where `response` is the Agents `response` object.\n"
      ],
      "metadata": {
        "id": "bZ3-hDYiQ1F-"
      }
    },
    {
      "cell_type": "code",
      "source": [
        "from proto import Message as pmsg\n",
        "import base64\n",
        "\n",
        "def response_to_html(result):\n",
        "  images = []\n",
        "  text = []\n",
        "  response = pmsg.to_dict(result.content,\n",
        "              use_integers_for_enums=False,\n",
        "              including_default_value_fields=False,\n",
        "              preserving_proto_field_name=True\n",
        "  )\n",
        "  html = \"\"\n",
        "  html_images = \"\"\n",
        "  html_links = \"\"\n",
        "  csv_counter = 1\n",
        "  for p in response.get('parts'):\n",
        "    if p.get(\"inline_data\"):\n",
        "      mime_type = p.get(\"inline_data\").get('mime_type', None)\n",
        "      if mime_type == \"image/png\":\n",
        "        c = p.get(\"inline_data\").get('data', None)\n",
        "        html_images +=  ('<img src=\"data:image/png;base64, '\n",
        "                                f'{c}\" />')\n",
        "      if mime_type == \"text/csv\":\n",
        "        c = p.get(\"inline_data\").get('data', None)\n",
        "        if c is not None:\n",
        "          temp_file_name = f\"file_{csv_counter}.csv\"\n",
        "          html_links += f'<li><a href=\"data:text/csv;base64,{c}\">{temp_file_name}</a></li>'\n",
        "\n",
        "    if 'text' in p:\n",
        "      text.append(p['text'])\n",
        "\n",
        "\n",
        "\n",
        "  if html_images != \"\":\n",
        "    html += '<h3>Images generated: </h3><pre>'+html_images+'</pre>'\n",
        "  if html_links != \"\":\n",
        "    html += '<h3>CSV files generated: </h3><pre><ul>'+html_links+'</ul></pre>'\n",
        "  html += \"<h3>Results: </h3><pre>\"+\"\\n\".join(text)+\"</pre>\"\n",
        "\n",
        "\n",
        "  return html"
      ],
      "metadata": {
        "id": "T0ePCXeuCgVH"
      },
      "execution_count": null,
      "outputs": []
    },
    {
      "cell_type": "markdown",
      "source": [
        "## `ds_agent`\n",
        "\n",
        "`ds_agent` is used to forward your query to get results from the agent app and returns the results object. Optionally and HTML version of the results is printed in the function. The default operation is to print the HTML inline\n",
        "\n",
        "\n",
        "**To use this functionality** call `ds_agent(query: str, session, encoded_data_list: list[bytes] = None, showHTML=True)` where:\n",
        "* The `query` contains the ask to the agent.\n",
        "* The `session` object holds the current stage of the conversation with the agent. This is helpful so that the agent maintains the conversation history and all data injected up to this point.\n",
        "* The `encoded_data_list` is a list of encoded data that are submitted to the agent. This is how you can provide a CSV data file to the agent at the beginning of your interaction.\n",
        "* `showHTML` if it is set to true it prints the html version of the result in line."
      ],
      "metadata": {
        "id": "xxhd6i3jR008"
      }
    },
    {
      "cell_type": "code",
      "source": [
        "# import matplotlib.pyplot as plt\n",
        "# from PIL import Image\n",
        "# from vertexai.generative_models import Content, Part\n",
        "\n",
        "# import mimetypes\n",
        "import IPython\n",
        "from google.cloud.aiplatform.private_preview.vertex_agents.gapic import types\n",
        "\n",
        "def ds_agent(query: str, session, encoded_data_list: list[bytes] = None, showHTML=True) -> None:\n",
        "\n",
        "  content = [types.Part(text=query)]\n",
        "\n",
        "  if encoded_data_list is not None:\n",
        "    for ed in encoded_data_list:\n",
        "      content.append(types.Part(\n",
        "              inline_data=types.Blob(\n",
        "                  data=ed['data'], mime_type=ed['mimetype']\n",
        "              )))\n",
        "  result = session.run(content=content)\n",
        "\n",
        "\n",
        "  html = response_to_html(result)\n",
        "  if (showHTML):\n",
        "    display(\n",
        "        IPython.display.HTML(\n",
        "          html\n",
        "            )\n",
        "    )\n",
        "\n",
        "  return {'row': result, 'html': html}"
      ],
      "metadata": {
        "id": "qDK18iyCCo5n"
      },
      "execution_count": null,
      "outputs": []
    },
    {
      "cell_type": "markdown",
      "source": [
        "## `gradio_agent`\n",
        "\n",
        "`gradio_agent` is used by gradio as your playground app (at the end of this notebook)to send requests to the agent and get responses.\n",
        "The response is in HTML so that gradio can visualise the images and text\n"
      ],
      "metadata": {
        "id": "vL_9sbfedSEM"
      }
    },
    {
      "cell_type": "code",
      "source": [
        "import gradio as gr\n",
        "import mimetypes\n",
        "def gradio_agent(message, history):\n",
        "    global session\n",
        "    if session is None or message['text']==\"session:reset\":\n",
        "      session = app.start_session()\n",
        "      return \"<p>New session Started. Please upload a CSV with the data you want to analyse with your first input </p><hr />\"\n",
        "    ecoded_data = []\n",
        "    for f in message.get('files', None):\n",
        "      with open(f, \"rb\") as attachment:\n",
        "        ecoded_data.append({'data': base64.b64encode(attachment.read()), 'mimetype': mimetypes.guess_type(f)[0]})\n",
        "    return ds_agent(query=message['text'], session=session, encoded_data_list=ecoded_data, showHTML=False).get('html', '')"
      ],
      "metadata": {
        "id": "aB6Wms8ERkdj"
      },
      "execution_count": null,
      "outputs": []
    },
    {
      "cell_type": "markdown",
      "source": [
        "# Create the Data\n",
        "The following code writes a local CSV file of synthetic data. This is a simple dataset of students containing attributes about sleeping and eating habits along with academic performance. This dataset is fictional and does not represent reality. It is only used to demonstrate Code Interpreter capabilities.\n"
      ],
      "metadata": {
        "id": "i4FUvI0qhcoF"
      }
    },
    {
      "cell_type": "code",
      "source": [
        "# @title\n",
        "%%writefile students.csv\n",
        "StudentID,Gender,ExtraActivitiesGroup,EatingHabits,SleepingHabits,Reading,Writing,Maths\n",
        "1,Male,nan,Healthy,Satisfactory,75,80,78\n",
        "2,Female,Group B,Mixed,Non-Satisfactory,nan,70,67\n",
        "3,nan,Group A,Unhealthy,Satisfactory,55,60,58\n",
        "4,Female,Group C,Healthy,Non-Satisfactory,70,75,73\n",
        "5,Male,Group B,Mixed,Satisfactory,60,65,63\n",
        "6,Female,Group A,Unhealthy,Non-Satisfactory,50,55,53\n",
        "7,Male,Group C,Healthy,Satisfactory,80,85,83\n",
        "8,Female,Group B,Mixed,Non-Satisfactory,65,70,67\n",
        "9,Male,Group A,Unhealthy,Satisfactory,55,60,58\n",
        "10,Male,nan,Mixed,Non-Satisfactory,80,78,85\n",
        "11,Female,Group B,Unhealthy,Satisfactory,65,68,70\n",
        "12,Female,Group A,Healthy,Non-Satisfactory,52,57,55\n",
        "13,nan,Group C,Unhealthy,Satisfactory,78,75,79\n",
        "14,Female,Group B,Mixed,Non-Satisfactory,63,70,65\n",
        "15,Male,Group A,Healthy,Satisfactory,82,87,80\n",
        "16,Male,Group C,Unhealthy,Non-Satisfactory,57,60,54\n",
        "17,Female,Group A,Mixed,Satisfactory,67,65,63\n",
        "18,Male,Group B,Unhealthy,Non-Satisfactory,55,62,58\n",
        "19,nan,Group C,Healthy,Satisfactory,88,85,87\n",
        "20,Female,Group B,Mixed,Non-Satisfactory,67,75,68\n",
        "21,Male,Group A,Unhealthy,Satisfactory,53,58,55\n",
        "22,Female,Group C,Healthy,Non-Satisfactory,80,77,82\n",
        "23,Male,Group A,Mixed,Satisfactory,60,63,60\n",
        "24,Female,Group B,Unhealthy,Non-Satisfactory,65,62,60\n",
        "25,Male,Group C,Healthy,Satisfactory,90,92,88\n",
        "26,Female,Group B,Mixed,Non-Satisfactory,58,65,60\n",
        "27,Male,Group A,Unhealthy,Satisfactory,67,60,65\n",
        "28,Male,Group C,Healthy,Non-Satisfactory,72,78,73\n",
        "29,Female,Group A,Mixed,Satisfactory,55,62,58\n",
        "30,Male,Group B,Unhealthy,Non-Satisfactory,78,75,72\n",
        "31,Female,Group C,Healthy,Satisfactory,85,87,83\n",
        "32,Female,Group A,Mixed,Non-Satisfactory,70,65,67\n",
        "33,Male,Group B,Unhealthy,Satisfactory,62,67,65\n",
        "34,Male,Group C,Healthy,Non-Satisfactory,77,83,75\n",
        "35,nan,Group A,Mixed,Satisfactory,65,63,60\n",
        "36,Female,Group B,Unhealthy,Non-Satisfactory,72,78,70\n",
        "37,Male,Group C,Healthy,Satisfactory,80,87,83\n",
        "38,Female,Group A,Mixed,Non-Satisfactory,75,70,72\n",
        "39,Male,Group B,Unhealthy,Satisfactory,65,67,60\n",
        "40,nan,Group C,Healthy,Non-Satisfactory,82,88,80\n",
        "41,Female,Group A,Mixed,Satisfactory,77,72,70\n",
        "42,Male,Group B,Unhealthy,Non-Satisfactory,67,62,63\n",
        "43,Male,Group C,Healthy,Satisfactory,92,90,88\n",
        "44,Female,Group A,Mixed,Non-Satisfactory,80,75,77\n",
        "45,nan,Group B,Unhealthy,Satisfactory,72,75,73\n",
        "46,Female,Group C,Healthy,Non-Satisfactory,83,80,85\n",
        "47,Male,Group A,Mixed,Satisfactory,75,72,73\n",
        "48,Male,Group B,Unhealthy,Non-Satisfactory,60,63,58\n",
        "49,nan,Group C,Healthy,Satisfactory,90,92,88\n",
        "50,Female,Group A,Mixed,Non-Satisfactory,85,80,82\n",
        "51,Male,Group B,Unhealthy,Satisfactory,70,67,65\n",
        "52,Female,Group C,Healthy,Non-Satisfactory,78,83,77\n",
        "53,Male,Group B,Mixed,Satisfactory,65,63,62\n",
        "54,Male,Group A,Unhealthy,Non-Satisfactory,52,57,55\n",
        "55,nan,Group C,Healthy,Satisfactory,75,78,73\n",
        "56,Female,Group B,Mixed,Non-Satisfactory,70,77,72\n",
        "57,Male,Group A,Unhealthy,Satisfactory,62,65,63\n",
        "58,Female,Group C,Healthy,Non-Satisfactory,88,85,83\n",
        "59,Male,Group B,Mixed,Satisfactory,78,80,77\n",
        "60,nan,Group A,Unhealthy,Non-Satisfactory,67,60,65\n",
        "61,Female,Group C,Healthy,Satisfactory,83,80,82\n",
        "62,Male,Group B,Mixed,Non-Satisfactory,72,68,70\n",
        "63,Male,Group A,Unhealthy,Satisfactory,62,57,60\n",
        "64,Female,Group C,Healthy,Non-Satisfactory,90,87,88\n",
        "65,Male,Group B,Mixed,Satisfactory,85,82,80\n",
        "66,nan,Group A,Unhealthy,Non-Satisfactory,55,62,58\n",
        "67,Female,Group C,Healthy,Satisfactory,77,85,80\n",
        "68,Male,Group B,Mixed,Non-Satisfactory,65,72,67\n",
        "69,Male,Group A,Unhealthy,Satisfactory,67,60,68\n",
        "70,Female,Group C,Healthy,Non-Satisfactory,92,90,85\n",
        "71,Male,Group B,Mixed,Satisfactory,77,85,82\n",
        "72,nan,Group A,Unhealthy,Non-Satisfactory,62,55,60\n",
        "73,Female,Group C,Healthy,Satisfactory,83,87,85\n",
        "74,Male,Group B,Mixed,Non-Satisfactory,68,72,65\n",
        "75,Male,Group A,Unhealthy,Satisfactory,53,58,55\n",
        "76,nan,Group C,Healthy,Non-Satisfactory,88,83,87\n",
        "77,Female,Group B,Mixed,Satisfactory,72,70,73\n",
        "78,Male,Group A,Unhealthy,Non-Satisfactory,70,65,67\n",
        "79,Male,Group C,Healthy,Satisfactory,80,85,80\n",
        "80,Female,Group B,Mixed,Non-Satisfactory,75,72,75\n",
        "81,nan,Group A,Unhealthy,Satisfactory,55,60,58\n",
        "82,Female,Group C,Healthy,Non-Satisfactory,80,77,82\n",
        "83,Male,Group B,Mixed,Satisfactory,68,70,68\n",
        "84,Male,Group A,Unhealthy,Non-Satisfactory,62,57,63\n",
        "85,Female,Group C,Healthy,Satisfactory,90,92,88\n",
        "86,nan,Group B,Mixed,Non-Satisfactory,67,72,67\n",
        "87,Female,Group A,Unhealthy,Satisfactory,53,60,58\n",
        "88,Male,Group C,Healthy,Non-Satisfactory,75,78,73\n",
        "89,Male,Group B,Mixed,Satisfactory,82,80,83\n",
        "90,nan,Group A,Unhealthy,Non-Satisfactory,65,62,63\n",
        "91,Female,Group C,Healthy,Satisfactory,80,83,80\n",
        "92,Male,Group B,Mixed,Non-Satisfactory,85,80,82\n",
        "93,Male,Group A,Unhealthy,Satisfactory,62,67,65\n",
        "94,nan,Group C,Healthy,Non-Satisfactory,90,87,92\n",
        "95,Female,Group B,Mixed,Satisfactory,77,75,78\n",
        "96,Female,Group A,Unhealthy,Non-Satisfactory,67,60,68\n",
        "97,nan,Group C,Healthy,Satisfactory,77,83,78\n",
        "98,Male,Group B,Mixed,Non-Satisfactory,62,68,65\n",
        "99,Male,Group A,Unhealthy,Satisfactory,52,57,58\n",
        "100,Female,Group C,Healthy,Non-Satisfactory,72,75,77\n",
        "101,Male,Group B,Mixed,Satisfactory,70,67,72\n",
        "102,nan,Group A,Unhealthy,Non-Satisfactory,67,62,65\n",
        "103,Female,Group C,Healthy,Satisfactory,83,87,85\n",
        "104,Male,Group B,Mixed,Non-Satisfactory,80,77,82\n",
        "105,Male,Group A,Unhealthy,Satisfactory,55,62,53\n",
        "106,Female,Group C,Healthy,Non-Satisfactory,92,90,88\n",
        "107,nan,Group B,Mixed,Satisfactory,78,83,78\n",
        "108,Female,Group A,Unhealthy,Non-Satisfactory,72,65,70\n",
        "109,Male,Group C,Healthy,Satisfactory,83,80,85\n",
        "110,Female,Group B,Mixed,Non-Satisfactory,68,72,63\n",
        "111,Male,Group A,Unhealthy,Satisfactory,60,63,63\n",
        "112,nan,Group C,Healthy,Non-Satisfactory,72,78,73\n",
        "113,Female,Group B,Mixed,Satisfactory,80,83,83\n",
        "114,Male,Group A,Unhealthy,Non-Satisfactory,70,65,67\n",
        "115,Female,Group C,Healthy,Satisfactory,90,87,92\n",
        "116,Male,Group B,Mixed,Non-Satisfactory,85,82,80\n",
        "117,Male,Group A,Unhealthy,Satisfactory,52,57,55\n",
        "118,Female,Group C,Healthy,Non-Satisfactory,77,85,80\n",
        "119,nan,Group B,Mixed,Satisfactory,68,70,68\n",
        "120,Female,Group A,Unhealthy,Non-Satisfactory,53,60,58\n",
        "121,Male,Group C,Healthy,Satisfactory,75,80,77\n",
        "122,Female,Group B,Mixed,Non-Satisfactory,67,72,67\n",
        "123,Male,Group B,Unhealthy,Satisfactory,70,67,72\n",
        "124,Female,Group A,Mixed,Non-Satisfactory,62,57,60\n",
        "125,nan,Group C,Healthy,Satisfactory,80,83,80\n",
        "126,Male,Group B,Mixed,Non-Satisfactory,62,68,60\n",
        "127,Male,Group A,Unhealthy,Satisfactory,55,60,58\n",
        "128,Female,Group C,Healthy,Non-Satisfactory,92,90,85\n",
        "129,Male,Group B,Mixed,Satisfactory,85,82,80\n",
        "130,Female,Group A,Unhealthy,Non-Satisfactory,75,70,72\n",
        "131,nan,Group C,Healthy,Satisfactory,77,83,78\n",
        "132,Male,Group B,Mixed,Non-Satisfactory,80,77,82\n",
        "133,Male,Group A,Unhealthy,Satisfactory,62,67,60\n",
        "134,Female,Group C,Healthy,Non-Satisfactory,90,87,92\n",
        "135,Male,Group B,Mixed,Satisfactory,78,83,78\n",
        "136,Female,Group A,Unhealthy,Non-Satisfactory,55,62,58\n",
        "137,Male,Group C,Healthy,Satisfactory,80,83,80\n",
        "138,Male,Group B,Mixed,Non-Satisfactory,67,70,63\n",
        "139,nan,Group A,Unhealthy,Satisfactory,65,62,65\n",
        "140,Female,Group C,Healthy,Non-Satisfactory,88,83,87\n",
        "141,Female,Group B,Mixed,Satisfactory,70,77,70\n",
        "142,Male,Group A,Unhealthy,Non-Satisfactory,52,57,55\n",
        "143,Male,Group C,Healthy,Satisfactory,85,80,82\n",
        "144,Male,Group B,Mixed,Non-Satisfactory,82,80,83\n",
        "145,nan,Group A,Unhealthy,Satisfactory,60,63,63\n",
        "146,Female,Group C,Healthy,Non-Satisfactory,90,87,92\n",
        "147,Female,Group B,Mixed,Satisfactory,75,72,77\n",
        "148,Male,Group A,Unhealthy,Non-Satisfactory,57,60,54\n",
        "149,nan,Group C,Healthy,Satisfactory,80,85,82\n",
        "150,Female,Group B,Mixed,Non-Satisfactory,80,75,83\n",
        "151,Male,Group A,Unhealthy,Satisfactory,78,75,79\n",
        "152,Male,Group C,Healthy,Non-Satisfactory,92,90,88\n",
        "153,nan,Group B,Mixed,Satisfactory,65,63,62\n",
        "154,Female,Group A,Unhealthy,Non-Satisfactory,53,58,55\n",
        "155,Male,Group C,Healthy,Satisfactory,83,87,82\n",
        "156,Female,Group B,Mixed,Non-Satisfactory,85,80,83\n",
        "157,Male,Group A,Unhealthy,Satisfactory,70,67,72\n",
        "158,Male,Group C,Healthy,Non-Satisfactory,90,87,92\n",
        "159,Female,Group B,Mixed,Satisfactory,68,70,68\n",
        "160,Female,Group A,Unhealthy,Non-Satisfactory,67,60,70\n",
        "161,nan,Group C,Healthy,Satisfactory,90,92,88\n",
        "162,Male,Group B,Mixed,Non-Satisfactory,85,82,80\n",
        "163,Male,Group A,Unhealthy,Satisfactory,65,62,65\n",
        "164,Female,Group C,Healthy,Non-Satisfactory,83,87,85\n",
        "165,nan,Group B,Mixed,Satisfactory,78,83,78\n",
        "166,Female,Group A,Unhealthy,Non-Satisfactory,55,62,58\n",
        "167,Male,Group C,Healthy,Satisfactory,80,83,80\n",
        "168,Female,Group B,Mixed,Non-Satisfactory,67,70,63\n",
        "169,Male,Group A,Unhealthy,Satisfactory,52,57,55\n",
        "170,nan,Group C,Healthy,Non-Satisfactory,82,88,80\n",
        "171,Male,Group B,Mixed,Satisfactory,80,83,83\n",
        "172,Female,Group A,Unhealthy,Non-Satisfactory,75,70,72\n",
        "173,Male,Group B,Healthy,Satisfactory,90,87,88\n",
        "174,Male,Group B,Mixed,Non-Satisfactory,62,68,65\n",
        "175,nan,Group A,Unhealthy,Satisfactory,62,57,63\n",
        "176,Female,Group C,Healthy,Non-Satisfactory,77,85,80\n",
        "177,Male,Group B,Mixed,Satisfactory,68,70,68\n",
        "178,Male,Group A,Unhealthy,Non-Satisfactory,53,60,58\n",
        "179,Female,Group C,Healthy,Satisfactory,90,87,92\n",
        "180,Male,Group B,Mixed,Non-Satisfactory,70,67,75\n",
        "181,nan,Group A,Unhealthy,Satisfactory,65,62,65\n",
        "182,Female,Group C,Healthy,Non-Satisfactory,83,87,85\n",
        "183,nan,Group A,Mixed,Satisfactory,75,78,77\n",
        "184,Female,Group A,Unhealthy,Non-Satisfactory,55,62,58\n",
        "185,Male,Group C,Healthy,Satisfactory,80,83,80\n",
        "186,Male,Group A,Mixed,Non-Satisfactory,85,82,80\n",
        "187,Male,Group A,Unhealthy,Satisfactory,78,75,79\n",
        "188,nan,Group C,Healthy,Non-Satisfactory,80,85,83\n",
        "189,Female,Group B,Mixed,Satisfactory,70,77,70\n",
        "190,Male,Group A,Unhealthy,Non-Satisfactory,57,60,54\n",
        "191,nan,Group C,Healthy,Satisfactory,92,90,85\n",
        "192,Female,Group B,Mixed,Non-Satisfactory,80,75,83\n",
        "193,Male,Group A,Unhealthy,Satisfactory,53,58,55\n",
        "194,nan,Group C,Healthy,Non-Satisfactory,75,78,77\n",
        "195,Female,Group B,Mixed,Satisfactory,65,63,62\n",
        "196,Female,Group A,Unhealthy,Non-Satisfactory,67,60,70\n",
        "197,Male,Group A,Healthy,Satisfactory,85,80,87\n",
        "198,Male,Group B,Mixed,Non-Satisfactory,85,82,80\n",
        "199,Male,Group A,Unhealthy,Satisfactory,72,65,70\n",
        "200,nan,Group C,Healthy,Non-Satisfactory,90,87,92\n",
        "201,Female,Group B,Mixed,Satisfactory,68,70,68\n",
        "202,Female,Group A,Unhealthy,Non-Satisfactory,62,57,63\n",
        "203,nan,Group A,Healthy,Satisfactory,82,88,80\n",
        "204,Female,Group B,Mixed,Non-Satisfactory,80,77,82\n",
        "205,Male,Group A,Unhealthy,Satisfactory,67,60,68\n",
        "206,Male,Group A,Healthy,Non-Satisfactory,90,87,92\n",
        "207,Female,Group B,Mixed,Satisfactory,78,83,78\n",
        "208,Female,Group A,Unhealthy,Non-Satisfactory,72,65,70\n",
        "209,nan,Group C,Healthy,Satisfactory,77,83,78\n",
        "210,Male,Group B,Mixed,Non-Satisfactory,62,68,65\n",
        "211,Male,Group A,Unhealthy,Satisfactory,53,58,55\n",
        "212,Male,Group A,Healthy,Non-Satisfactory,92,90,85\n",
        "213,Female,Group B,Mixed,Satisfactory,68,70,68\n",
        "214,Female,Group A,Unhealthy,Non-Satisfactory,75,70,72\n",
        "215,nan,Group B,Healthy,Satisfactory,77,83,78\n",
        "216,Female,Group B,Mixed,Non-Satisfactory,67,70,63\n",
        "217,Male,Group A,Unhealthy,Satisfactory,52,57,55\n",
        "218,nan,Group C,Healthy,Non-Satisfactory,90,87,92\n",
        "219,Female,Group B,Mixed,Satisfactory,85,82,80\n",
        "220,Female,Group A,Unhealthy,Non-Satisfactory,55,62,58\n",
        "221,Male,Group A,Healthy,Satisfactory,80,83,80\n",
        "222,Male,Group B,Mixed,Non-Satisfactory,60,63,63\n",
        "223,Male,Group A,Unhealthy,Satisfactory,78,75,79\n",
        "224,Female,Group C,Healthy,Non-Satisfactory,75,78,77\n",
        "225,nan,Group B,Mixed,Satisfactory,70,67,72\n",
        "226,Male,Group A,Unhealthy,Non-Satisfactory,70,65,67\n",
        "227,nan,Group C,Healthy,Satisfactory,90,92,88\n",
        "228,Female,Group B,Mixed,Non-Satisfactory,85,82,80\n",
        "229,Male,Group A,Unhealthy,Satisfactory,65,62,65\n",
        "230,Female,Group C,Healthy,Non-Satisfactory,83,87,85\n",
        "231,nan,Group B,Mixed,Satisfactory,75,78,77\n",
        "232,Female,Group A,Unhealthy,Non-Satisfactory,55,62,58\n",
        "233,Male,Group C,Healthy,Satisfactory,80,83,80\n",
        "234,Male,Group B,Mixed,Non-Satisfactory,85,82,80\n",
        "235,Male,Group A,Unhealthy,Satisfactory,78,75,79\n",
        "236,Female,Group C,Healthy,Non-Satisfactory,83,87,85\n",
        "237,nan,Group A,Mixed,Satisfactory,80,83,83\n",
        "238,Female,Group B,Mixed,Non-Satisfactory,75,70,77\n",
        "239,Male,Group A,Unhealthy,Non-Satisfactory,62,57,63\n",
        "240,nan,Group C,Healthy,Non-Satisfactory,82,88,80\n",
        "241,Female,Group B,Mixed,Satisfactory,80,77,82\n",
        "242,Male,Group A,Unhealthy,Satisfactory,60,63,63\n",
        "243,Female,Group C,Healthy,Non-Satisfactory,90,87,92\n",
        "244,Male,Group B,Mixed,Non-Satisfactory,82,80,83\n",
        "245,nan,Group C,Healthy,Satisfactory,77,83,78\n",
        "246,Male,Group B,Mixed,Non-Satisfactory,72,68,70\n",
        "247,Female,Group A,Unhealthy,Satisfactory,65,62,65\n",
        "248,Male,Group C,Healthy,Non-Satisfactory,80,85,83\n",
        "249,Female,Group A,Mixed,Non-Satisfactory,70,65,67\n",
        "250,nan,Group C,Healthy,Non-Satisfactory,83,80,85\n",
        "251,Female,Group B,Mixed,Satisfactory,68,70,68\n",
        "252,Female,Group A,Unhealthy,Non-Satisfactory,62,57,63\n",
        "253,Male,Group C,Healthy,Satisfactory,92,90,88\n",
        "254,Female,Group B,Mixed,Non-Satisfactory,80,75,83\n",
        "255,nan,Group C,Healthy,Satisfactory,90,92,88\n",
        "256,Female,Group B,Mixed,Satisfactory,70,77,70\n",
        "257,Male,Group A,Unhealthy,Non-Satisfactory,52,57,55\n",
        "258,nan,Group C,Healthy,Non-Satisfactory,75,78,77\n",
        "259,Female,Group B,Mixed,Non-Satisfactory,80,77,82\n",
        "260,Male,Group A,Unhealthy,Satisfactory,55,62,58\n",
        "261,nan,Group C,Healthy,Satisfactory,82,88,80\n",
        "262,Female,Group B,Mixed,Non-Satisfactory,72,65,70\n",
        "263,Male,Group A,Unhealthy,Non-Satisfactory,65,62,65\n",
        "264,Female,Group C,Healthy,Non-Satisfactory,90,87,92\n",
        "265,Male,Group B,Mixed,Satisfactory,77,85,82\n",
        "266,Female,Group A,Unhealthy,Non-Satisfactory,55,62,58\n",
        "267,nan,Group C,Healthy,Satisfactory,83,80,85\n",
        "268,Female,Group B,Mixed,Non-Satisfactory,85,82,80\n",
        "269,Male,Group A,Unhealthy,Satisfactory,62,57,63\n",
        "270,Female,Group C,Healthy,Non-Satisfactory,77,85,80\n",
        "271,nan,Group B,Mixed,Satisfactory,70,67,72\n",
        "272,Male,Group A,Unhealthy,Non-Satisfactory,53,60,58\n",
        "273,Male,Group C,Healthy,Satisfactory,75,80,77\n",
        "274,Female,Group B,Mixed,Non-Satisfactory,80,75,83\n",
        "275,Male,Group A,Unhealthy,Satisfactory,52,57,55\n",
        "276,nan,Group C,Healthy,Non-Satisfactory,92,90,85\n",
        "277,Female,Group B,Mixed,Satisfactory,68,72,65\n",
        "278,Male,Group A,Unhealthy,Non-Satisfactory,70,65,67\n",
        "279,nan,Group C,Healthy,Satisfactory,80,83,80\n",
        "280,Female,Group B,Mixed,Non-Satisfactory,75,72,75\n",
        "281,Male,Group A,Unhealthy,Satisfactory,57,60,54\n",
        "282,Female,Group C,Healthy,Non-Satisfactory,78,83,77\n",
        "283,nan,Group B,Mixed,Satisfactory,70,67,72\n",
        "284,Female,Group A,Unhealthy,Non-Satisfactory,62,57,63\n",
        "285,Male,Group C,Healthy,Satisfactory,90,87,88\n",
        "286,Male,Group B,Mixed,Non-Satisfactory,82,80,83\n",
        "287,nan,Group C,Healthy,Satisfactory,77,83,78\n",
        "288,Female,Group B,Mixed,Non-Satisfactory,72,70,73\n",
        "289,Male,Group A,Unhealthy,Satisfactory,65,62,65\n",
        "290,Female,Group C,Healthy,Non-Satisfactory,90,87,92\n",
        "291,nan,Group B,Mixed,Satisfactory,70,63,60\n",
        "292,Female,Group A,Unhealthy,Non-Satisfactory,55,62,58\n",
        "293,Male,Group C,Healthy,Satisfactory,75,80,77\n",
        "294,Male,Group B,Mixed,Non-Satisfactory,85,82,80\n",
        "295,nan,Group A,Mixed,Satisfactory,80,75,77\n",
        "296,Female,Group C,Healthy,Non-Satisfactory,77,83,78\n",
        "297,Female,Group B,Mixed,Non-Satisfactory,67,72,67\n",
        "298,Male,Group A,Unhealthy,Satisfactory,67,60,68\n",
        "299,Male,Group B,Healthy,Satisfactory,88,85,87\n",
        "300,Female,Group A,Mixed,Non-Satisfactory,78,75,79\n",
        "301,Male,Group C,Unhealthy,Satisfactory,75,78,72\n",
        "302,Female,Group B,Mixed,Non-Satisfactory,72,65,70\n",
        "303,Male,Group A,Healthy,Non-Satisfactory,85,82,80\n",
        "304,Female,Group C,Healthy,Non-Satisfactory,77,83,78\n",
        "305,Male,Group A,Mixed,Non-Satisfactory,72,65,70\n",
        "306,Female,Group B,Unhealthy,Satisfactory,72,78,70\n",
        "307,nan,Group A,Healthy,Satisfactory,82,88,80\n",
        "308,Female,Group C,Mixed,Non-Satisfactory,72,75,77\n",
        "309,Male,Group B,Mixed,Non-Satisfactory,62,68,65\n",
        "310,Female,Group A,Unhealthy,Satisfactory,53,60,58\n",
        "311,nan,Group C,Healthy,Satisfactory,90,92,88\n",
        "312,Female,Group B,Mixed,Non-Satisfactory,80,77,82\n",
        "313,Male,Group A,Unhealthy,Non-Satisfactory,67,60,68\n",
        "314,nan,Group C,Healthy,Satisfactory,77,83,78\n",
        "315,Female,Group B,Mixed,Satisfactory,75,72,75\n",
        "316,Male,Group A,Unhealthy,Non-Satisfactory,52,57,55\n",
        "317,Female,Group C,Healthy,Non-Satisfactory,90,87,92\n",
        "318,Male,Group B,Mixed,Non-Satisfactory,85,82,80"
      ],
      "metadata": {
        "id": "p2ddx8pIii4D",
        "cellView": "form"
      },
      "execution_count": null,
      "outputs": []
    },
    {
      "cell_type": "markdown",
      "source": [
        "# Load data in memory\n",
        "We are transforming the dataset using base64 encoding to submit to the Agent. These are submitted as inline data and the agent is able to use them to answer users requests"
      ],
      "metadata": {
        "id": "QiyeKarQlbR9"
      }
    },
    {
      "cell_type": "code",
      "source": [
        "encoded_data= []\n",
        "with open('students.csv', \"rb\") as attachment:\n",
        "  encoded_data.append({'data': base64.b64encode(attachment.read()), 'mimetype': mimetypes.guess_type('students.csv')[0]})"
      ],
      "metadata": {
        "id": "b02YdntAlaH9"
      },
      "execution_count": null,
      "outputs": []
    },
    {
      "cell_type": "markdown",
      "source": [
        "\n",
        "# Step 1: Start a new Session\n",
        "A session represents a conversation history with an agent. When starting a new engagement with an agent requires a new session to not reuse information from previous engagements. Likewise if you want to reset a conversation you need to start a new session\n"
      ],
      "metadata": {
        "id": "oxt3Cxw2jwaw"
      }
    },
    {
      "cell_type": "code",
      "source": [
        "session = app.start_session()"
      ],
      "metadata": {
        "id": "Pq_JPyt6hc4R"
      },
      "execution_count": null,
      "outputs": []
    },
    {
      "cell_type": "markdown",
      "source": [
        "# Step 2: Provide the dataset to the agent\n",
        "Send a message to the agent with the dataset and information that this is the dataset for analysis"
      ],
      "metadata": {
        "id": "HpaDHSO_kKjj"
      }
    },
    {
      "cell_type": "code",
      "source": [
        "result = ds_agent(query=\"This is the dataset we will be using today\", session=session, encoded_data_list=encoded_data)"
      ],
      "metadata": {
        "id": "qorEINE5lGVC"
      },
      "execution_count": null,
      "outputs": []
    },
    {
      "cell_type": "markdown",
      "source": [
        "# Step 3: Data Exploration\n",
        "In this section we will be asking the agent to explain and visualise the dataset so we can get a better understanding"
      ],
      "metadata": {
        "id": "s4WFTFS0mb_j"
      }
    },
    {
      "cell_type": "code",
      "source": [
        "result = ds_agent(query=\"Help me better understand the dataset. Please verbally explain the columns and data distributions\", session=session)"
      ],
      "metadata": {
        "id": "SU1ZiQrrkKRV"
      },
      "execution_count": null,
      "outputs": []
    },
    {
      "cell_type": "markdown",
      "source": [
        "Thats great! lest see what else we can ask our agent to do!"
      ],
      "metadata": {
        "id": "ch1H850AqN7U"
      }
    },
    {
      "cell_type": "code",
      "source": [
        "query=\"\"\"\n",
        "I would like to see a pie chart for gender distribution\n",
        "\"\"\"\n",
        "\n",
        "result = ds_agent(query=query, session=session)"
      ],
      "metadata": {
        "id": "G-qheciQqIJV"
      },
      "execution_count": null,
      "outputs": []
    },
    {
      "cell_type": "code",
      "source": [
        "query=\"\"\"\n",
        "Hm, I noticed only 'Male' and 'Female' gender categories. In the dataset some values are Nan for gender.\n",
        "Can you replace missing values with Unknown on all categorical columns and reproduce the gender pie chart?\n",
        "\"\"\"\n",
        "\n",
        "result = ds_agent(query=query, session=session)"
      ],
      "metadata": {
        "id": "OhxFTjn5quNN"
      },
      "execution_count": null,
      "outputs": []
    },
    {
      "cell_type": "code",
      "source": [
        "query=\"\"\"\n",
        "Now I want to see charts that show module scores (math, reading and writing) in relation to eating habits, sleeping habits and extra activities group\n",
        "\"\"\"\n",
        "\n",
        "result = ds_agent(query=query, session=session)"
      ],
      "metadata": {
        "id": "K2HdR7ish8Sx"
      },
      "execution_count": null,
      "outputs": []
    },
    {
      "cell_type": "markdown",
      "source": [
        "# Step 4: Data manipulation\n",
        "In this section we will perform some data manipulation actions, replace missing values, remove columns, normalise etc.\n"
      ],
      "metadata": {
        "id": "o-1JXJCJcbBR"
      }
    },
    {
      "cell_type": "code",
      "source": [
        "query=\"\"\"\n",
        "Are there any other missing data in the dataset?\n",
        "\"\"\"\n",
        "\n",
        "result = ds_agent(query=query, session=session)"
      ],
      "metadata": {
        "id": "sWgqT-P1rOu6"
      },
      "execution_count": null,
      "outputs": []
    },
    {
      "cell_type": "code",
      "source": [
        "query=\"\"\"\n",
        "Replace numerical missing values with the mean of that column\n",
        "\"\"\"\n",
        "\n",
        "result = ds_agent(query=query, session=session)"
      ],
      "metadata": {
        "id": "f5G9RNXhcNIm"
      },
      "execution_count": null,
      "outputs": []
    },
    {
      "cell_type": "markdown",
      "source": [
        "Okay now we do not have any missing values in the dataset. This dataset is about students. I am wondering if there is any PII information. Let's ask our agent"
      ],
      "metadata": {
        "id": "gBZb6HSqcyOu"
      }
    },
    {
      "cell_type": "code",
      "source": [
        "query=\"\"\"\n",
        "Is there any PII info in the dataset\n",
        "\"\"\"\n",
        "\n",
        "result = ds_agent(query=query, session=session)"
      ],
      "metadata": {
        "id": "YqIZfJ_Ccxkb"
      },
      "execution_count": null,
      "outputs": []
    },
    {
      "cell_type": "markdown",
      "source": [
        "The agent is able to provide some potential risks and ideas on mitigation. Let's remove StudentID"
      ],
      "metadata": {
        "id": "J5rWiU0OdIpU"
      }
    },
    {
      "cell_type": "code",
      "source": [
        "query=\"\"\"\n",
        "Perfect, remove the student ID column and return the first 10 rows of the\n",
        "dataset to validate that the column has been removed\n",
        "\"\"\"\n",
        "\n",
        "result = ds_agent(query=query, session=session)"
      ],
      "metadata": {
        "id": "wvL8jVbqdYpi"
      },
      "execution_count": null,
      "outputs": []
    },
    {
      "cell_type": "code",
      "source": [
        "query=\"\"\"\n",
        "Excellent! I am a bit rusty and do not quite recall, what is the difference of standardisation vs normalisation?\n",
        "\"\"\"\n",
        "\n",
        "result = ds_agent(query=query, session=session)"
      ],
      "metadata": {
        "id": "UZUETvRvdryZ"
      },
      "execution_count": null,
      "outputs": []
    },
    {
      "cell_type": "code",
      "source": [
        "query=\"\"\"\n",
        "Okay, please apply standardisation to module columns. Print the first 5 lines of the data to validate\n",
        "\"\"\"\n",
        "\n",
        "result = ds_agent(query=query, session=session)"
      ],
      "metadata": {
        "id": "T-gJGqx6iexO"
      },
      "execution_count": null,
      "outputs": []
    },
    {
      "cell_type": "markdown",
      "source": [
        "# Step 5: Final observations\n",
        "In this section we are asking the agent to give us a final view on this dataset and some advice for students. This is just an exercise and we do not suggest that advice provided is the golden rule. Each student is different and should consult with teachers, guidance counsellors, or other trusted adults for personalised advice and support.\n"
      ],
      "metadata": {
        "id": "AYMDCvZIvu3Q"
      }
    },
    {
      "cell_type": "code",
      "source": [
        "query=\"\"\"\n",
        "What are your observations of this dataset in terms of habits in comparison to academic performance?\n",
        "\"\"\"\n",
        "\n",
        "result = ds_agent(query=query, session=session)"
      ],
      "metadata": {
        "id": "YkbucQLPvkEL"
      },
      "execution_count": null,
      "outputs": []
    },
    {
      "cell_type": "code",
      "source": [
        "query=\"\"\"\n",
        "What could be an advice to students?\n",
        "\"\"\"\n",
        "\n",
        "result = ds_agent(query=query, session=session)"
      ],
      "metadata": {
        "id": "JXilwFuiv8B7"
      },
      "execution_count": null,
      "outputs": []
    },
    {
      "cell_type": "code",
      "source": [
        "query=\"\"\"\n",
        "Please return the final dataset in a csv file\n",
        "\"\"\"\n",
        "\n",
        "result = ds_agent(query=query, session=session)"
      ],
      "metadata": {
        "id": "4BDTdrX_wzpj"
      },
      "execution_count": null,
      "outputs": []
    },
    {
      "cell_type": "markdown",
      "source": [
        "# Playground\n",
        "I hope you enjoyed this tutorial! Here you can interact with a data science agent in a new session. You can upload your own data by attaching them in the initial message and start asking questions. You can download the same student.csv dataset and reuse that for experimentation.\n"
      ],
      "metadata": {
        "id": "HwV0x_Rx2vK4"
      }
    },
    {
      "cell_type": "markdown",
      "source": [
        "Generating credentials for gradio UI"
      ],
      "metadata": {
        "id": "M_1aVcTR4Rxg"
      }
    },
    {
      "cell_type": "code",
      "source": [
        "import secrets\n",
        "\n",
        "\n",
        "username = \"user\"\n",
        "password = secrets.token_urlsafe(8)\n",
        "\n",
        "\n",
        "print(f\"Use the following information to login to the gradio UI: \\n\\nusername: user \\npassword: {password}\")"
      ],
      "metadata": {
        "id": "ekSPjuJp4RfY"
      },
      "execution_count": null,
      "outputs": []
    },
    {
      "cell_type": "markdown",
      "source": [
        "For better experience you can open gradio on a new tab by clicking on the gradio public URL that is generated after you run the following cell"
      ],
      "metadata": {
        "id": "VvGUDg6yRAx7"
      }
    },
    {
      "cell_type": "code",
      "source": [
        "session = app.start_session()\n",
        "gr.ChatInterface(gradio_agent,\n",
        "    title=\"Data Science Agent\",\n",
        "    examples=[{\"text\":\"session:reset\"}],\n",
        "    multimodal=True).launch(debug=True, share=True, auth=(username, password))"
      ],
      "metadata": {
        "id": "ElhsyrWZ2u0Y"
      },
      "execution_count": null,
      "outputs": []
    },
    {
      "cell_type": "markdown",
      "source": [
        "# Cleaning Up\n",
        "In this tutorial we used Vertex AI Agent with the Code Interpreter Vertex AI Extension to analyse a csv dataset.\n",
        "\n",
        "To delete your app, uncomment and run:"
      ],
      "metadata": {
        "id": "figw2zZ7MmO4"
      }
    },
    {
      "cell_type": "code",
      "source": [
        "# app.delete(app.app_name)"
      ],
      "metadata": {
        "id": "tL9X-jZHahmL"
      },
      "execution_count": null,
      "outputs": []
    },
    {
      "cell_type": "markdown",
      "source": [
        "You also created an Code Interpter extension in this notebook, if you want to delete it uncomment and run:"
      ],
      "metadata": {
        "id": "iaaHgGIYbK0L"
      }
    },
    {
      "cell_type": "code",
      "source": [
        "# extension_code_interpreter.delete()"
      ],
      "metadata": {
        "id": "PLdFmPeao_zR"
      },
      "execution_count": null,
      "outputs": []
    },
    {
      "cell_type": "markdown",
      "source": [
        "If you restarted the notebook, you may have additional apps and extensions that need cleaning up.\n",
        "\n",
        "List all the apps in your project:"
      ],
      "metadata": {
        "id": "HuSYP8VbbTQZ"
      }
    },
    {
      "cell_type": "code",
      "source": [
        "App.list_apps()"
      ],
      "metadata": {
        "id": "rX9qQnfuakBQ"
      },
      "execution_count": null,
      "outputs": []
    },
    {
      "cell_type": "markdown",
      "source": [
        "If you see more apps that you don't want, look for the `app_name` values (they look like `projects/PROJECT_NUMBER/locations/LOCATION/apps/APP_NUMBER`) and use the following line of code to delete them manually:"
      ],
      "metadata": {
        "id": "sLF4FepEbyBs"
      }
    },
    {
      "cell_type": "code",
      "source": [
        "App.delete(app_name=\"projects/PROJECT_NUMBER/locations/LOCATION/apps/APP_NUMBER)"
      ],
      "metadata": {
        "id": "AdiB0ozBY-Hz"
      },
      "execution_count": null,
      "outputs": []
    },
    {
      "cell_type": "markdown",
      "source": [
        "You can run the next cell to get a list of all Vertex AI Extensions Instances in your environment:"
      ],
      "metadata": {
        "id": "Trj3-K5So_zS"
      }
    },
    {
      "cell_type": "code",
      "source": [
        "from vertexai.preview import extensions\n",
        "extensions.Extension.list()"
      ],
      "metadata": {
        "id": "NOrV6r1Po_zT"
      },
      "execution_count": null,
      "outputs": []
    },
    {
      "cell_type": "markdown",
      "source": [
        "If you see extensions that you don't want, look for the `resource name` values (they look like `projects/PROJECT_NUMBER/locations/LOCATION/extensions/EXTENSION_NUMBER`) and use the following line of code to delete them manually:"
      ],
      "metadata": {
        "id": "sGnmwXF1eLUC"
      }
    },
    {
      "cell_type": "code",
      "source": [
        "extension = extensions.Extension(\"projects/PROJECT_NUMBER/locations/LOCATION/extensions/EXTENSION_NUMBER\")\n",
        "extension.delete()"
      ],
      "metadata": {
        "id": "oyydObUueLAZ"
      },
      "execution_count": null,
      "outputs": []
    },
    {
      "cell_type": "markdown",
      "source": [
        "You can run the next cell to get a list of all Vertex AI Extensions Instances in your environment:"
      ],
      "metadata": {
        "id": "K1pyDrUuSOg8"
      }
    },
    {
      "cell_type": "code",
      "source": [
        "extension_code_interpreter.delete()"
      ],
      "metadata": {
        "id": "G6y9BgeyQuXj"
      },
      "execution_count": null,
      "outputs": []
    },
    {
      "cell_type": "markdown",
      "source": [
        "If you restarted the notebook runtime, you may have some stray registered Extensions. This next line of code shows you all the Extensions registered in your project:"
      ],
      "metadata": {
        "id": "-DjFqPctqxg8"
      }
    },
    {
      "cell_type": "code",
      "source": [
        "extensions.Extension.list()"
      ],
      "metadata": {
        "id": "GWNvVKjBtiWY"
      },
      "execution_count": null,
      "outputs": []
    },
    {
      "cell_type": "markdown",
      "source": [
        "You can use the [Google Cloud Console](https://console.cloud.google.com/vertex-ai/extensions) to view and delete any stray registered Extensions.\n",
        "\n",
        "If you want to delete all the extensions in your project, uncomment and run this code block. **WARNING**: This cannot be undone!"
      ],
      "metadata": {
        "id": "Rem_HsH6tiWY"
      }
    },
    {
      "cell_type": "code",
      "source": [
        "\"\"\"\n",
        "clean_ids = []\n",
        "\n",
        "for element in extensions.Extension.list():\n",
        "  clean_ids.append(str(element).split(\"extensions/\")[1])\n",
        "\n",
        "for id in clean_ids:\n",
        "  extension = extensions.Extension(id)\n",
        "  extension.delete()\n",
        "\"\"\""
      ],
      "metadata": {
        "id": "DWPNr8gEtiWZ"
      },
      "execution_count": null,
      "outputs": []
    }
  ],
  "metadata": {
    "colab": {
      "provenance": []
    },
    "kernelspec": {
      "display_name": "Python 3",
      "name": "python3"
    },
    "language_info": {
      "codemirror_mode": {
        "name": "ipython",
        "version": 3
      },
      "file_extension": ".py",
      "mimetype": "text/x-python",
      "name": "python",
      "nbconvert_exporter": "python",
      "pygments_lexer": "ipython3",
      "version": "3.11.4"
    }
  },
  "nbformat": 4,
  "nbformat_minor": 0
}