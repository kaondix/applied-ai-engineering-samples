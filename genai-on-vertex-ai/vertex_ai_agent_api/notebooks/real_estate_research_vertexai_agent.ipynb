{
  "nbformat": 4,
  "nbformat_minor": 0,
  "metadata": {
    "colab": {
      "provenance": []
    },
    "kernelspec": {
      "name": "python3",
      "display_name": "Python 3"
    },
    "language_info": {
      "name": "python"
    }
  },
  "cells": [
    {
      "cell_type": "code",
      "source": [
        "# Copyright 2024 Google LLC\n",
        "#\n",
        "# Licensed under the Apache License, Version 2.0 (the \"License\");\n",
        "# you may not use this file except in compliance with the License.\n",
        "# You may obtain a copy of the License at\n",
        "#\n",
        "#     https://www.apache.org/licenses/LICENSE-2.0\n",
        "#\n",
        "# Unless required by applicable law or agreed to in writing, software\n",
        "# distributed under the License is distributed on an \"AS IS\" BASIS,\n",
        "# WITHOUT WARRANTIES OR CONDITIONS OF ANY KIND, either express or implied.\n",
        "# See the License for the specific language governing permissions and\n",
        "# limitations under the License."
      ],
      "metadata": {
        "id": "nCLHXnfFn4WI"
      },
      "execution_count": null,
      "outputs": []
    },
    {
      "cell_type": "markdown",
      "source": [
        "#Research Agent for Housing Investment Opportunities\n",
        "\n",
        "<table align=\"left\">\n",
        "  <td style=\"text-align: center\">\n",
        "    <a href=\"https://colab.sandbox.google.com/github/GoogleCloudPlatform/applied-ai-engineering-samples/blob/main/genai-on-vertex-ai/vertex_ai_agent_api/notebooks/real_estate_research_vertexai_agent.ipynb\">\n",
        "      <img src=\"https://cloud.google.com/ml-engine/images/colab-logo-32px.png\" alt=\"Google Colaboratory logo\"><br> Open in Colab\n",
        "    </a>\n",
        "  </td>\n",
        "  <td style=\"text-align: center\">\n",
        "    <a href=\"https://console.cloud.google.com/vertex-ai/colab/import/https:%2F%2Fraw.githubusercontent.com%2FGoogleCloudPlatform%2Fapplied-ai-engineering-samples%2Fmain%2genai-on-vertex-ai%2Fvvertex_ai_agent_api%2Fnotebooks%2Freal_estate_research_vertexai_agent.ipynb\">\n",
        "      <img width=\"32px\" src=\"https://lh3.googleusercontent.com/JmcxdQi-qOpctIvWKgPtrzZdJJK-J3sWE1RsfjZNwshCFgE_9fULcNpuXYTilIR2hjwN\" alt=\"Google Cloud Colab Enterprise logo\"><br> Open in Colab Enterprise\n",
        "    </a>\n",
        "  </td>    \n",
        "  <td style=\"text-align: center\">\n",
        "    <a href=\"https://console.cloud.google.com/vertex-ai/workbench/deploy-notebook?download_url=https://raw.githubusercontent.com/GoogleCloudPlatform/applied-ai-engineering-samples/blob/main/genai-on-vertex-ai/vertex_ai_agent_api/notebooks/real_estate_research_vertexai_agent.ipynb\">\n",
        "      <img src=\"https://lh3.googleusercontent.com/UiNooY4LUgW_oTvpsNhPpQzsstV5W8F7rYgxgGBD85cWJoLmrOzhVs_ksK_vgx40SHs7jCqkTkCk=e14-rj-sc0xffffff-h130-w32\" alt=\"Vertex AI logo\"><br> Open in Workbench\n",
        "    </a>\n",
        "  </td>\n",
        "  <td style=\"text-align: center\">\n",
        "    <a href=\"https://github.com/GoogleCloudPlatform/applied-ai-engineering-samples/blob/main/genai-on-vertex-ai/vertex_ai_agent_api/notebooks/real_estate_research_vertexai_agent.ipynb\">\n",
        "      <img src=\"https://cloud.google.com/ml-engine/images/github-logo-32px.png\" alt=\"GitHub logo\"><br> View on GitHub\n",
        "    </a>\n",
        "  </td>\n",
        "</table>\n"
      ],
      "metadata": {
        "id": "WHtLTE3ksNDP"
      }
    },
    {
      "cell_type": "markdown",
      "source": [
        "| | |\n",
        "|----------|-------------|\n",
        "| Author(s)   | [Lei Pan](https://github.com/genaimagician)|\n",
        "| Reviewers(s) | Anand Iyer, Danhao Guo, Hanfei Sun, Meltem Subasioglu, Michael Sherman|\n",
        "| Last updated | 2024-07-15: Fixed code review items |\n",
        "| Previous updated | 2024-07-12: Updated to 1.60 SDK |\n",
        "| Previous updated | 2024-07-10: Added text from the template |\n",
        "| Previous updated | 2024-06-30: Polished text for publishing |\n",
        "| Previous updated | 2024-06-14: Second Draft |"
      ],
      "metadata": {
        "id": "MGwjcyJkb78K"
      }
    },
    {
      "cell_type": "markdown",
      "metadata": {
        "id": "JAPoU8Sm5E6e"
      },
      "source": [
        "# Overview\n",
        "\n",
        "In this notebook, we will show you how to use the [Vertex AI Agent API](https://cloud.google.com/vertex-ai/generative-ai/docs/agent-api/overview) with Vertex AI Search Extension and Webpage Browser Extension tools to complete housing investment opportunities research for business stakeholders. You will perform the following steps:\n",
        "\n",
        "- Creating vertex AI search extension, webpage browser extension and function call tools\n",
        "- Creating an agent app in your project\n",
        "- Creating an agent in the app and add instructions & extension & function call tools to it\n",
        "- Asking the agent housing investment opportunities questions\n",
        "\n",
        "In addition to Vertex AI Agent API, this notebook uses [Vertex AI Search](https://cloud.google.com/generative-ai-app-builder/docs/enterprise-search-introduction), [Vertex AI Search extension](https://cloud.google.com/vertex-ai/generative-ai/docs/extensions/vertex-ai-search), [ Function Calling](https://cloud.google.com/vertex-ai/generative-ai/docs/multimodal/function-calling), and Webpage Browser Extension."
      ]
    },
    {
      "cell_type": "markdown",
      "source": [
        " ## Vertex AI Agent API\n",
        "\n",
        "[Vertex AI Agent API](https://cloud.google.com/vertex-ai/generative-ai/docs/agent-api/overview) is an API for creating and managing Generative AI systems called \"agents\" that can  reason, plan, and act to perform specific tasks.\n",
        "\n",
        " Vertex AI Agent API offers faster time to market than building agents from scratch while still being flexible and customizable. It handles orchestraction and state management, gives you the benefits of Google's expertise in building reliable AI systems, scales in a secure and responsible way, and seamlessly integrates with other Vertex AI and Google Cloud products."
      ],
      "metadata": {
        "id": "KUXzlvfpn513"
      }
    },
    {
      "cell_type": "markdown",
      "source": [
        "## Using This Notebook\n",
        "\n",
        "Colab is recommended for running this notebook, but it can run in any iPython environment where you can connect to Google Cloud, install pip packages, etc.\n",
        "\n",
        "If you're running outside of Colab and encountering issues, the [Getting Started with Vertex AI Agent notebook](https://github.com/GoogleCloudPlatform/applied-ai-engineering-samples/blob/main/genai-on-vertex-ai/vertex_ai_agent_api/notebooks/getting_started_vertex_agent_api.ipynb.ipynb) has some troubleshooting tips.\n",
        "\n",
        "This tutorial uses the following Google Cloud services and resources:\n",
        "\n",
        "* [Vertex AI Agent API](https://cloud.google.com/vertex-ai/generative-ai/docs/agent-api/overview)\n",
        "* Cloud Storage API\n",
        "* Vertex AI API\n",
        "* Agent Builder API\n",
        "* Vertex AI Search and Webpage Broswer Extensions\n",
        "\n",
        "This notebook has been tested in the following environment:\n",
        "\n",
        "* Python version = 3.10.12\n",
        "* [google-cloud-aiplatform](https://pypi.org/project/google-cloud-aiplatform/) version = 1.5.5\n",
        "* [google-cloud-discoveryengine](https://cloud.google.com/python/docs/reference/discoveryengine/latest) version = 0.11.11\n",
        "\n",
        "**Note:** Vertex AI Extensions requires google-cloud-aiplatform version >= 1.47.0"
      ],
      "metadata": {
        "id": "uNriTZl70OdV"
      }
    },
    {
      "cell_type": "markdown",
      "source": [
        "## Useful Tips\n",
        "\n",
        "1. This notebook uses Generative AI cababilities. Re-running a cell that uses Generative AI capabilities may produce similar but not identical results.\n",
        "2. Because of #1, it is possible that an output produces errors. If that happens re-run the cell that produced the error. The re-run will likely be bug free.\n",
        "3. The use of Generative AI capabilities is subject to service quotas. Running the notebook using \"Run All\" may exceed your queries per minute (QPM) limitations. Run the notebook manually and if you get a quota error pause for up to 1 minute before retrying that cell. The Vertex AI Agent API defaults to Gemini on the backend and is subject to the Gemini quotas, [view your Gemini quotas here](https://console.cloud.google.com/iam-admin/quotas?pageState=(%22allQuotasTable%22:(%22f%22:%22%255B%257B_22k_22_3A_22_22_2C_22t_22_3A10_2C_22v_22_3A_22_5C_22base_model_5C_22_22%257D_2C%257B_22k_22_3A_22_22_2C_22t_22_3A10_2C_22v_22_3A_22_5C_22gemini_5C_22_22%257D%255D%22%29%29&e=13802955&mods=logs_tg_staging).\n"
      ],
      "metadata": {
        "id": "Ar0aDcql1dxl"
      }
    },
    {
      "cell_type": "markdown",
      "source": [
        "# Setup"
      ],
      "metadata": {
        "id": "PO_tnShTGUik"
      }
    },
    {
      "cell_type": "markdown",
      "source": [
        "## Enable APIs and Set Permissions\n",
        "1. [Select or create a Google Cloud project](https://console.cloud.google.com/cloud-resource-manager). When you first create an account, you get a $300 free credit towards your compute/storage costs.\n",
        "1. [Make sure that billing is enabled for your project](https://cloud.google.com/billing/docs/how-to/modify-project).\n",
        "1. [Enable the Service Usage API](https://console.cloud.google.com/apis/library/serviceusage.googleapis.com)\n",
        "1. [Enable the Vertex AI API](https://console.cloud.google.com/flows/enableapi?apiid=aiplatform.googleapis.com).\n",
        "1. [Enable the Vertex AI API (autopush)](https://console.cloud.google.com/apis/api/autopush-aiplatform.sandbox.googleapis.com/metrics).\n",
        "1. [Enable the Cloud Storage API](https://console.cloud.google.com/flows/enableapi?apiid=storage.googleapis.com).\n",
        "1. [Enable the Discovery Engine API for your project](https://console.cloud.google.com/marketplace/product/google/discoveryengine.googleapis.com)\n",
        "1. [Enable the Agent Builder API](https://console.cloud.google.com/gen-app-builder/start)\n",
        "\n",
        "**To run the complete Notebook, including the optional section, you will need to have the [Owner role](https://cloud.google.com/iam/docs/understanding-roles) for your project.**\n",
        "\n",
        "If you want to skip the optional section, you need at least the following [roles](https://cloud.google.com/iam/docs/granting-changing-revoking-access):\n",
        "* **`roles/serviceusage.serviceUsageAdmin`** to enable APIs\n",
        "* **`roles/iam.serviceAccountAdmin`** to modify service agent permissions\n",
        "* **`roles/discoveryengine.admin`** to modify discoveryengine assets\n",
        "* **`roles/aiplatform.user`** to use AI Platform components\n",
        "* **`roles/storage.objectAdmin`** to modify and delete GCS buckets\n",
        "\n"
      ],
      "metadata": {
        "id": "XLf5oGqHn_DH"
      }
    },
    {
      "cell_type": "markdown",
      "source": [
        "##Authenticate"
      ],
      "metadata": {
        "id": "SfNhErJDVmk5"
      }
    },
    {
      "cell_type": "code",
      "execution_count": null,
      "metadata": {
        "id": "JZGytImrziVA",
        "colab": {
          "base_uri": "https://localhost:8080/"
        },
        "outputId": "6e4cba54-66a0-43a0-ee51-d27729f05753"
      },
      "outputs": [
        {
          "output_type": "stream",
          "name": "stdout",
          "text": [
            "Authenticated\n"
          ]
        }
      ],
      "source": [
        "# Colab authentication.\n",
        "import sys\n",
        "\n",
        "if \"google.colab\" in sys.modules:\n",
        "    from google.colab import auth\n",
        "    auth.authenticate_user()\n",
        "    print(\"Authenticated\")"
      ]
    },
    {
      "cell_type": "markdown",
      "source": [
        "## Install the Google Cloud Vertex AI Python SDK [TODO]\n",
        "\n",
        "[TODO] Once the SDK is released, we will swap this with the public library. For now, you need the code blocks below to install agent sdk."
      ],
      "metadata": {
        "id": "JgXyHQQfsGnc"
      }
    },
    {
      "cell_type": "code",
      "source": [
        "!gsutil cp gs://vertex_agents_private_releases/vertex_agents/google_cloud_aiplatform-1.60.dev20240710+vertex.agents-py2.py3-none-any.whl ."
      ],
      "metadata": {
        "id": "abQtu5_aIprk",
        "colab": {
          "base_uri": "https://localhost:8080/"
        },
        "outputId": "02bfd4f1-cc41-4093-d41e-d5bc29b8d69c"
      },
      "execution_count": null,
      "outputs": [
        {
          "output_type": "stream",
          "name": "stdout",
          "text": [
            "Copying gs://vertex_agents_private_releases/vertex_agents/google_cloud_aiplatform-1.60.dev20240710+vertex.agents-py2.py3-none-any.whl...\n",
            "/ [1 files][  5.2 MiB/  5.2 MiB]                                                \n",
            "Operation completed over 1 objects/5.2 MiB.                                      \n"
          ]
        }
      ]
    },
    {
      "cell_type": "code",
      "source": [
        "!pip install google-cloud-discoveryengine --upgrade\n",
        "!pip install --upgrade google-auth\n",
        "!pip install --quiet --user --upgrade --force-reinstall -q google_cloud_aiplatform-1.60.dev20240710+vertex.agents-py2.py3-none-any.whl --no-warn-conflicts\n",
        "!pip install -U \"pandas==2.2.2\"\n",
        "!pip install -U 'numpy<2'"
      ],
      "metadata": {
        "id": "AOJu5GA6zjEJ"
      },
      "execution_count": null,
      "outputs": []
    },
    {
      "cell_type": "markdown",
      "metadata": {
        "id": "R5Xep4W9lq-Z"
      },
      "source": [
        "### Restart Runtime\n",
        "\n",
        "You may need to restart your notebook runtime to use the Vertex AI SDK. You can do this by running the cell below, which restarts the current kernel.\n",
        "\n",
        "You may see the restart reported as a crash, but it is working as-intended -- you are merely restarting the runtime.\n",
        "\n",
        "The restart might take a minute or longer. After its restarted, continue to the next step."
      ]
    },
    {
      "cell_type": "code",
      "execution_count": null,
      "metadata": {
        "id": "XRvKdaPDTznN",
        "colab": {
          "base_uri": "https://localhost:8080/"
        },
        "outputId": "96d57b84-745b-4151-f3f2-a08ea9e4a9a2"
      },
      "outputs": [
        {
          "output_type": "execute_result",
          "data": {
            "text/plain": [
              "{'status': 'ok', 'restart': True}"
            ]
          },
          "metadata": {},
          "execution_count": 7
        }
      ],
      "source": [
        "import IPython\n",
        "\n",
        "app = IPython.Application.instance()\n",
        "app.kernel.do_shutdown(True)"
      ]
    },
    {
      "cell_type": "markdown",
      "source": [
        "# Initialize the Google Cloud Vertex AI Python SDK\n"
      ],
      "metadata": {
        "id": "SvJv6I4MgmsF"
      }
    },
    {
      "cell_type": "markdown",
      "source": [
        "### Set Your Project ID\n"
      ],
      "metadata": {
        "id": "DUtmcrKTgqKe"
      }
    },
    {
      "cell_type": "code",
      "source": [
        "PROJECT_ID = 'msubasioglu-genai-sa'\n",
        "LOCATION = 'us-central1'\n",
        "API_ENDPOINT = 'us-central1-autopush-aiplatform.sandbox.googleapis.com'"
      ],
      "metadata": {
        "id": "VXV0NeaugrV1"
      },
      "execution_count": null,
      "outputs": []
    },
    {
      "cell_type": "markdown",
      "source": [
        "### Import and Initialize the Vertex AI Python SDK"
      ],
      "metadata": {
        "id": "Ojtwou1cgyFF"
      }
    },
    {
      "cell_type": "code",
      "source": [
        "from google.cloud import aiplatform\n",
        "from google.cloud.aiplatform.private_preview.vertex_agents.app import App, Session\n",
        "from google.cloud.aiplatform.private_preview.vertex_agents.agent import Agent\n",
        "from vertexai.preview.extensions import Extension\n",
        "\n",
        "aiplatform.init(project=PROJECT_ID, location=LOCATION, api_endpoint=API_ENDPOINT)"
      ],
      "metadata": {
        "id": "xwnx0xPuskAQ"
      },
      "execution_count": null,
      "outputs": []
    },
    {
      "cell_type": "markdown",
      "source": [
        "# Cymbal Real Estate Research Agent - Search and Webpage Browser Tools"
      ],
      "metadata": {
        "id": "wWso7BK7egeY"
      }
    },
    {
      "cell_type": "markdown",
      "source": [
        "## Step 1: Create Vertex Search Extension Tool with Proprietary Cymbal Datasource\n",
        "\n",
        "In this section, we do the following tasks:\n",
        "\n",
        "- Create Vertex AI Search App with 3 PDFs ([PDF1](https://drive.google.com/file/d/1sqGmjqDOLtBMEJkGRAhcTYVbZXkKPAWJ/view?usp=sharing), [PDF2](https://drive.google.com/file/d/1M2Uk5ABMlLix1Nxg7LEWmW4ioZ_SxhkU/view?usp=drive_link), [PDF3](https://drive.google.com/file/d/19kUrpUv9AKIebHRja_RcyP7JTPMyKmkV/view?usp=drive_link)) for Search Extension.\n",
        "- Create Vertex AI Search Extension using the Search App\n",
        "\n",
        "Note: 3 PDFs include Synthesized Exclusive San Francisco Off-Market Property Listings for Cymbal Real Estate Group"
      ],
      "metadata": {
        "id": "44ikqwKQpEms"
      }
    },
    {
      "cell_type": "markdown",
      "source": [
        "#### Permissions Setup\n",
        "\n",
        "If you have already set up the permission, feel free to skip this step.\n",
        "\n",
        "For using the Vertex AI Search Extension, please grant the [Vertex AI Extension Service agent](https://cloud.google.com/vertex-ai/docs/general/access-control#service-agents) the [permission needed](https://cloud.google.com/vertex-ai/docs/general/access-control#home-project). In this case, you need permissions to run discovery engine. You can set it in the UI: https://console.cloud.google.com/iam-admin/iam"
      ],
      "metadata": {
        "id": "ei9fJCWfFafT"
      }
    },
    {
      "cell_type": "markdown",
      "source": [
        "#### Create a Vertex AI Search App for the Vertex AI Search Extension in 4 Steps\n",
        "\n",
        "To create a search app for Vertex AI Search Extension to use, you can either do that manually by following [those docs](https://cloud.google.com/generative-ai-app-builder/docs/create-datastore-ingest) or run the 4 steps below. If you already have a vertex AI search appp set up, feel free to skip those 4 steps and go to set up vertex AI search extension section."
      ],
      "metadata": {
        "id": "eLSvcJrRBa0P"
      }
    },
    {
      "cell_type": "markdown",
      "source": [
        "##### 1) Download PDFs and Ingest Into GCS Bucket\n",
        "\n",
        "If you don't have gdown and gsutil, please install them. !pip install gdown, !pip install gsutil"
      ],
      "metadata": {
        "id": "IBcXf2rdBASy"
      }
    },
    {
      "cell_type": "code",
      "source": [
        "from google.cloud import storage\n",
        "import gdown\n",
        "def upload_blob(bucket_name, source_file_name, destination_blob_name):\n",
        "    \"\"\"Uploads a file to the bucket.\"\"\"\n",
        "    storage_client = storage.Client()\n",
        "    bucket = storage_client.bucket(bucket_name)\n",
        "    blob = bucket.blob(destination_blob_name)\n",
        "    generation_match_precondition = None\n",
        "    blob.upload_from_filename(source_file_name, if_generation_match=generation_match_precondition)\n",
        "    print(f\"File {source_file_name} uploaded to {destination_blob_name}.\")\n",
        "\n",
        "# Create a GCS bucket if you don't have one\n",
        "GCS_BUCKET = f\"{PROJECT_ID}-cymbal-offmarket-list\"\n",
        "! set -x && gsutil mb -p $PROJECT_ID -l us-central1 gs://$GCS_BUCKET\n",
        "\n",
        "gcs_bucket = GCS_BUCKET # If you don't use the bucket created in the notebook, use the name of your bucket.\n",
        "folder_path = \"offmarket_data_pdfs/\" #Default sub folder name in your gcs bucket. You can use this one.\n",
        "\n",
        "# Download the pdfs and ingest them to the GCS bucket\n",
        "url_list = [\"https://drive.google.com/uc?id=1sqGmjqDOLtBMEJkGRAhcTYVbZXkKPAWJ\",\n",
        "\"https://drive.google.com/uc?id=1M2Uk5ABMlLix1Nxg7LEWmW4ioZ_SxhkU\",\n",
        "\"https://drive.google.com/uc?id=19kUrpUv9AKIebHRja_RcyP7JTPMyKmkV\"]\n",
        "i=1\n",
        "for url in url_list:\n",
        "  gdown.download(url, f\"invest{i}.pdf\")\n",
        "  upload_blob(gcs_bucket,f\"invest{i}.pdf\",f\"{folder_path}invest{i}.pdf\")\n",
        "  i+=1"
      ],
      "metadata": {
        "id": "kb3BDKin-6z-"
      },
      "execution_count": null,
      "outputs": []
    },
    {
      "cell_type": "markdown",
      "source": [
        "##### 2) Create a Vertex AI Search Data Store\n",
        "The Vertex AI Search extension needs a [**Data Store** and **Vertex AI Search App**](https://cloud.google.com/generative-ai-app-builder/docs/create-datastore-ingest) to run. After creating the data store using the cell below, You can inspect it under: https://console.cloud.google.com/gen-app-builder/data-stores"
      ],
      "metadata": {
        "id": "VsZUGcCSgMFw"
      }
    },
    {
      "cell_type": "code",
      "source": [
        "# Specify an id for your datastore. It should only use lowercase letters.\n",
        "DATA_STORE_ID = \"cymbal-offmarket-datastore\""
      ],
      "metadata": {
        "id": "VwHVcxEg3qzT"
      },
      "execution_count": null,
      "outputs": []
    },
    {
      "cell_type": "code",
      "source": [
        "# Create your Vertex AI Search data store:\n",
        "%%bash -s \"$PROJECT_ID\" \"$DATA_STORE_ID\"\n",
        "curl -X POST \\\n",
        "-H \"Authorization: Bearer $(gcloud auth print-access-token)\" \\\n",
        "-H \"Content-Type: application/json\" \\\n",
        "-H \"X-Goog-User-Project: $1\" \\\n",
        "\"https://discoveryengine.googleapis.com/v1alpha/projects/$1/locations/global/collections/default_collection/dataStores?dataStoreId=$2\" \\\n",
        "-d '{\n",
        "  \"displayName\": \"Cymbal-Offmarket-Datastore\",\n",
        "  \"industryVertical\": \"GENERIC\",\n",
        "  \"solutionTypes\": [\"SOLUTION_TYPE_SEARCH\"],\n",
        "  \"contentConfig\": \"CONTENT_REQUIRED\",\n",
        "}'"
      ],
      "metadata": {
        "id": "DOLi7KS5gR0P",
        "collapsed": true,
        "colab": {
          "base_uri": "https://localhost:8080/"
        },
        "outputId": "cd8ad6dd-6aee-49a9-a291-6f30aaff404d"
      },
      "execution_count": null,
      "outputs": [
        {
          "output_type": "stream",
          "name": "stdout",
          "text": [
            "{\n",
            "  \"name\": \"projects/742157128610/locations/global/collections/default_collection/operations/create-data-store-15169634535600974360\",\n",
            "  \"done\": true,\n",
            "  \"response\": {\n",
            "    \"@type\": \"type.googleapis.com/google.cloud.discoveryengine.v1alpha.DataStore\",\n",
            "    \"name\": \"projects/742157128610/locations/global/collections/default_collection/dataStores/cymbal-offmarket-datastore\",\n",
            "    \"displayName\": \"Cymbal-Offmarket-Datastore\",\n",
            "    \"industryVertical\": \"GENERIC\",\n",
            "    \"solutionTypes\": [\n",
            "      \"SOLUTION_TYPE_SEARCH\"\n",
            "    ],\n",
            "    \"contentConfig\": \"CONTENT_REQUIRED\",\n",
            "    \"defaultSchemaId\": \"default_schema\"\n",
            "  }\n",
            "}\n"
          ]
        },
        {
          "output_type": "stream",
          "name": "stderr",
          "text": [
            "  % Total    % Received % Xferd  Average Speed   Time    Time     Time  Current\n",
            "                                 Dload  Upload   Total   Spent    Left  Speed\n",
            "\r  0     0    0     0    0     0      0      0 --:--:-- --:--:-- --:--:--     0\r100   167    0     0  100   167      0    138  0:00:01  0:00:01 --:--:--   138\r100   770    0   603  100   167    458    126  0:00:01  0:00:01 --:--:--   585\r100   770    0   603  100   167    458    126  0:00:01  0:00:01 --:--:--   585\n"
          ]
        }
      ]
    },
    {
      "cell_type": "markdown",
      "source": [
        "##### 3) Ingest PDF Files in the GCS bucket into the Vertex AI Search Data Store"
      ],
      "metadata": {
        "id": "jc2zLUA6BMsa"
      }
    },
    {
      "cell_type": "code",
      "source": [
        "from google.api_core.client_options import ClientOptions\n",
        "from google.cloud import discoveryengine\n",
        "from typing import Optional\n",
        "\n",
        "def import_documents_sample(project_id: str,location: str,data_store_id: str,\n",
        "    gcs_uri: Optional[str] = None,) -> str:\n",
        "    \"\"\"Imports documents into a Vertex AI data store from GCS.\n",
        "    This function imports documents into a specified data store within Vertex AI\n",
        "    Agent Builder from a GCS bucket.\n",
        "    \"\"\"\n",
        "    client_options = (\n",
        "        ClientOptions(api_endpoint=f\"{location}-discoveryengine.googleapis.com\")\n",
        "        if location != \"global\"\n",
        "        else None\n",
        "    )\n",
        "    client = discoveryengine.DocumentServiceClient(client_options=client_options)\n",
        "    # The full resource name of the search engine branch.\n",
        "    parent = client.branch_path(\n",
        "        project=project_id,\n",
        "        location=location,\n",
        "        data_store=data_store_id,\n",
        "        branch=\"default_branch\",)\n",
        "\n",
        "    request = discoveryengine.ImportDocumentsRequest(\n",
        "        parent=parent,\n",
        "        gcs_source=discoveryengine.GcsSource(\n",
        "            input_uris=[gcs_uri], data_schema=\"content\"\n",
        "        ),\n",
        "        # Options: `FULL`, `INCREMENTAL`\n",
        "        reconciliation_mode=discoveryengine.ImportDocumentsRequest.ReconciliationMode.INCREMENTAL,)\n",
        "    # Make the request\n",
        "    operation = client.import_documents(request=request)\n",
        "    print(f\"Waiting for operation to complete: {operation.operation.name}\")\n",
        "    response = operation.result()\n",
        "    # Once the operation is complete, get information from operation metadata.\n",
        "    metadata = discoveryengine.ImportDocumentsMetadata(operation.metadata)\n",
        "    # Handle the response.\n",
        "    print(response)\n",
        "    print(metadata)\n",
        "    return operation.operation.name\n",
        "\n",
        "# Ingest pdfs in the GCS bucket to the data store\n",
        "GCS_URI = f\"gs://{gcs_bucket}/{folder_path}*.pdf\"\n",
        "import_documents_sample(PROJECT_ID, \"global\", DATA_STORE_ID, GCS_URI)"
      ],
      "metadata": {
        "id": "MT6vj3nr6T8e",
        "colab": {
          "base_uri": "https://localhost:8080/",
          "height": 333
        },
        "outputId": "a3cdaeaf-a9b0-4555-91fe-35e25d5fa555"
      },
      "execution_count": null,
      "outputs": [
        {
          "output_type": "stream",
          "name": "stdout",
          "text": [
            "Waiting for operation to complete: projects/742157128610/locations/global/collections/default_collection/dataStores/cymbal-offmarket-datastore/branches/0/operations/import-documents-11424418836549634975\n",
            "error_config {\n",
            "  gcs_prefix: \"gs://742157128610_us_central1_import_content/errors11424418836549635406\"\n",
            "}\n",
            "\n",
            "create_time {\n",
            "  seconds: 1721034595\n",
            "  nanos: 559403000\n",
            "}\n",
            "update_time {\n",
            "  seconds: 1721035120\n",
            "  nanos: 853928000\n",
            "}\n",
            "success_count: 3\n",
            "total_count: 3\n",
            "\n"
          ]
        },
        {
          "output_type": "execute_result",
          "data": {
            "text/plain": [
              "'projects/742157128610/locations/global/collections/default_collection/dataStores/cymbal-offmarket-datastore/branches/0/operations/import-documents-11424418836549634975'"
            ],
            "application/vnd.google.colaboratory.intrinsic+json": {
              "type": "string"
            }
          },
          "metadata": {},
          "execution_count": 8
        }
      ]
    },
    {
      "cell_type": "markdown",
      "source": [
        "##### 4) Create a Vertex Search App and Connect it to the Data Store\n",
        "The following cell lets you create a Vertex AI Search App to ✨**connect**✨ to your newly created data store. Need to enable searchTier and searchAddOns for the Vertex AI Search Extension to work as shown in the cell below. Read more about [Advanced Features](https://cloud.google.com/generative-ai-app-builder/docs/about-advanced-features)"
      ],
      "metadata": {
        "id": "xwcBGeljauNR"
      }
    },
    {
      "cell_type": "code",
      "source": [
        "%%bash -s \"$PROJECT_ID\" \"$DATA_STORE_ID\"\n",
        "curl -X POST \\\n",
        "-H \"Authorization: Bearer $(gcloud auth print-access-token)\" \\\n",
        "-H \"Content-Type: application/json\" \\\n",
        "-H \"X-Goog-User-Project: $1\" \\\n",
        "\"https://discoveryengine.googleapis.com/v1/projects/$1/locations/global/collections/default_collection/engines?engineId=$2\" \\\n",
        "-d '{\n",
        "  \"displayName\": \"Cymbal-Offmarket-Datastore-Engine\",\n",
        "  \"dataStoreIds\": [\"'$2'\"],\n",
        "  \"solutionType\": \"SOLUTION_TYPE_SEARCH\",\n",
        "  \"searchEngineConfig\": {\n",
        "     \"searchTier\": \"SEARCH_TIER_ENTERPRISE\",\n",
        "     \"searchAddOns\": [\"SEARCH_ADD_ON_LLM\"]\n",
        "   }\n",
        "}'"
      ],
      "metadata": {
        "id": "fu8919bNaybd",
        "collapsed": true,
        "colab": {
          "base_uri": "https://localhost:8080/"
        },
        "outputId": "0b41a847-3acb-4141-fca0-176ac3817116"
      },
      "execution_count": null,
      "outputs": [
        {
          "output_type": "stream",
          "name": "stdout",
          "text": [
            "{\n",
            "  \"name\": \"projects/742157128610/locations/global/collections/default_collection/operations/create-engine-9586108288729087024\",\n",
            "  \"done\": true,\n",
            "  \"response\": {\n",
            "    \"@type\": \"type.googleapis.com/google.cloud.discoveryengine.v1.Engine\",\n",
            "    \"name\": \"projects/742157128610/locations/global/collections/default_collection/engines/cymbal-offmarket-datastore\",\n",
            "    \"displayName\": \"Cymbal-Offmarket-Datastore-Engine\",\n",
            "    \"dataStoreIds\": [\n",
            "      \"cymbal-offmarket-datastore\"\n",
            "    ],\n",
            "    \"solutionType\": \"SOLUTION_TYPE_SEARCH\",\n",
            "    \"searchEngineConfig\": {\n",
            "      \"searchTier\": \"SEARCH_TIER_ENTERPRISE\",\n",
            "      \"searchAddOns\": [\n",
            "        \"SEARCH_ADD_ON_LLM\"\n",
            "      ]\n",
            "    }\n",
            "  }\n",
            "}\n"
          ]
        },
        {
          "output_type": "stream",
          "name": "stderr",
          "text": [
            "  % Total    % Received % Xferd  Average Speed   Time    Time     Time  Current\n",
            "                                 Dload  Upload   Total   Spent    Left  Speed\n",
            "\r  0     0    0     0    0     0      0      0 --:--:-- --:--:-- --:--:--     0\r100   268    0     0  100   268      0    221  0:00:01  0:00:01 --:--:--   221\r100   935    0   667  100   268    502    202  0:00:01  0:00:01 --:--:--   705\n"
          ]
        }
      ]
    },
    {
      "cell_type": "markdown",
      "source": [
        "#### Set Up the Vertex AI Search Extension Tool\n",
        "\n",
        "After you create the search app, you can use search extension to connect to it to extract the key housing research information. Below cells show you how to get the information using search extension. You can read more about search extension [here](https://cloud.google.com/vertex-ai/generative-ai/docs/extensions/vertex-ai-search)."
      ],
      "metadata": {
        "id": "1TaNXRnqL1Lu"
      }
    },
    {
      "cell_type": "code",
      "source": [
        "#If you use the notebook to create the search app, this should be the app name.\n",
        "#If you use your own search app, please replace the search app id with yours here.\n",
        "SEARCH_APP_ID = \"cymbal-offmarket-datastore\"\n",
        "SEARCH_APP_REGION = \"global\""
      ],
      "metadata": {
        "id": "j45s9LyIOvQ8"
      },
      "execution_count": null,
      "outputs": []
    },
    {
      "cell_type": "code",
      "source": [
        "SEARCH_CONFIG  = \"projects/{project_id}/locations/{search_app_region}/collections/default_collection/engines/{search_app_id}/servingConfigs/default_search\".format(\n",
        "    project_id=PROJECT_ID,\n",
        "    search_app_region=SEARCH_APP_REGION,\n",
        "    search_app_id=SEARCH_APP_ID)"
      ],
      "metadata": {
        "id": "l_hqJnawdayL"
      },
      "execution_count": null,
      "outputs": []
    },
    {
      "cell_type": "code",
      "source": [
        "search_extension = Extension.from_hub(\n",
        "    \"vertex_ai_search\",\n",
        "    runtime_config={\n",
        "        \"vertex_ai_search_runtime_config\": {\n",
        "            \"serving_config_name\": SEARCH_CONFIG,\n",
        "        }\n",
        "    })"
      ],
      "metadata": {
        "id": "zXggbziVKPC2",
        "colab": {
          "base_uri": "https://localhost:8080/"
        },
        "outputId": "9cd288fd-7a96-4493-912d-192b627c0c3b"
      },
      "execution_count": null,
      "outputs": [
        {
          "output_type": "stream",
          "name": "stderr",
          "text": [
            "INFO:vertexai.extensions._extensions:Creating Extension\n",
            "INFO:vertexai.extensions._extensions:Create Extension backing LRO: projects/742157128610/locations/us-central1/extensions/5684088087508942848/operations/8021762370663612416\n",
            "INFO:vertexai.extensions._extensions:Extension created. Resource name: projects/742157128610/locations/us-central1/extensions/5684088087508942848\n",
            "INFO:vertexai.extensions._extensions:To use this Extension in another session:\n",
            "INFO:vertexai.extensions._extensions:extension = vertexai.preview.extensions.Extension('projects/742157128610/locations/us-central1/extensions/5684088087508942848')\n"
          ]
        }
      ]
    },
    {
      "cell_type": "markdown",
      "source": [
        "## Step 2: Create Webpage Browser Extension Tool\n",
        "\n",
        "Webpage browser extension downloads information from the URL you specifcy in the prompt. This is how you can set it up at the moment. Once the CL is in production, we will use Extension.from_hub(...) to set up the extension."
      ],
      "metadata": {
        "id": "-GyFwhSxnO5d"
      }
    },
    {
      "cell_type": "code",
      "source": [
        "webpage_browser_extension = Extension.create(\n",
        "    display_name = \"Webpage Browser\",\n",
        "    description = \"This extension searches answers in browser\",\n",
        "    manifest = {\n",
        "        \"name\": \"webpage_browser\",\n",
        "        \"description\": \"Webpage Browser Extension\",\n",
        "        \"api_spec\": {\n",
        "            \"open_api_gcs_uri\": \"gs://vertex-extension-dev/webpage_browser.yaml\"\n",
        "        },\n",
        "        \"auth_config\": {\n",
        "            \"auth_type\": \"NO_AUTH\",\n",
        "        },\n",
        "    },\n",
        ")"
      ],
      "metadata": {
        "id": "O7YkBV8P0xQI",
        "collapsed": true
      },
      "execution_count": null,
      "outputs": []
    },
    {
      "cell_type": "markdown",
      "source": [
        "## Step 3: Function Call Tool\n",
        "\n",
        "In order for your agent to call a function, you need to provide some information about the function to call. You can use the FunctionDeclaration class to construct the function declaration you wish to use, and add this to your app when you create or update. You can read more on [function calling here.](https://cloud.google.com/vertex-ai/generative-ai/docs/multimodal/function-calling)"
      ],
      "metadata": {
        "id": "mq2h-_LEMr9L"
      }
    },
    {
      "cell_type": "code",
      "source": [
        "from vertexai.generative_models import FunctionDeclaration, Part\n",
        "\n",
        "function_declaration = FunctionDeclaration(\n",
        "  name=\"extract_property_sale_records\",\n",
        "  description=\"Extract property sale records from a document.\",\n",
        "  parameters={\n",
        "      \"type\": \"object\",\n",
        "      \"properties\": {\n",
        "          \"records\": {\n",
        "              \"type\": \"array\",\n",
        "              \"description\": \"A list of sale records\",\n",
        "              \"items\": {\n",
        "                  \"description\": \"Data for a sale record\",\n",
        "                  \"type\": \"object\",\n",
        "                  \"properties\": {\n",
        "        \"id\": {\"type\": \"integer\", \"description\": \"The unique id of the sale.\"},\n",
        "                      \"date\": {\"type\": \"string\", \"description\": \"Date of the sale, in the format of MMDDYY, e.g., 031023\"},\n",
        "                      \"total_amount\": {\"type\": \"number\", \"description\": \"The total amount of the sale.\"},\n",
        "                      \"customer_name\": {\"type\": \"string\", \"description\": \"The name of the customer, including first name and last name.\"},\n",
        "                      \"customer_contact\": {\"type\": \"string\", \"description\": \"The phone number of the customer, e.g., 650-123-4567.\"},\n",
        "                  },\n",
        "                  \"required\": [\"id\", \"date\", \"total_amount\"],\n",
        "              },\n",
        "          },\n",
        "      },\n",
        "      \"required\": [\"records\"],\n",
        "  },\n",
        ")"
      ],
      "metadata": {
        "id": "TTXeavD9sc8C"
      },
      "execution_count": null,
      "outputs": []
    },
    {
      "cell_type": "markdown",
      "source": [
        "## Step 4: Create Agent App\n",
        "\n",
        "Before you create an agent, you need to create an App. There are two options for creating an app.\n",
        "\n",
        "\n",
        "1.   use the App.create function, which will create a new app for you\n",
        "2.   initialize a Vertex Agents App object with the resource name of a previously created App"
      ],
      "metadata": {
        "id": "bpa46pjOwlQW"
      }
    },
    {
      "cell_type": "code",
      "source": [
        "app = App.create(display_name='Cymbal Research Agent App', description='This is an app created for a Cymbal real estate research agent.')"
      ],
      "metadata": {
        "id": "YclyIwrvUNZU"
      },
      "execution_count": null,
      "outputs": []
    },
    {
      "cell_type": "markdown",
      "source": [
        "## Step 5: Create Cymbal Real Estate Research Agent with Instructions on Tools\n",
        "You can add an agent for your app by using the add_app method. When adding an agent, you must specify all the required fields."
      ],
      "metadata": {
        "id": "KeDYd92xtGtj"
      }
    },
    {
      "cell_type": "code",
      "source": [
        "DISPLAY_NAME = \"Cymbal Real Estate Research Agent\"\n",
        "INSTRUCTIONS = \"You are an expert housing investment opportunities research agent for Cymbal Real Estate Group.\"\n",
        "\n",
        "created_agent = app.add_agent(display_name=DISPLAY_NAME, instructions=INSTRUCTIONS)"
      ],
      "metadata": {
        "id": "4D8AXpW9bllY"
      },
      "execution_count": null,
      "outputs": []
    },
    {
      "cell_type": "code",
      "source": [
        "app.list_agents()"
      ],
      "metadata": {
        "colab": {
          "base_uri": "https://localhost:8080/"
        },
        "id": "7sHXCM0GoPKG",
        "outputId": "12c358de-2b31-4020-a7fa-d67a0f91ed81"
      },
      "execution_count": null,
      "outputs": [
        {
          "output_type": "execute_result",
          "data": {
            "text/plain": [
              "[\n",
              " agent_name: projects/742157128610/locations/us-central1/apps/5703597821832200192/agents/2892485788946137088\n",
              " display_name: Cymbal Real Estate Research Agent\n",
              " model: projects/742157128610/locations/us-central1/publishers/google/models/gemini-1.5-pro-001\n",
              " instructions: You are an expert housing investment opportunities research agent for Cymbal Real Estate Group.]"
            ]
          },
          "metadata": {},
          "execution_count": 18
        }
      ]
    },
    {
      "cell_type": "markdown",
      "source": [
        "## Step 6: Ask Agent to Research on Housing Investment Opportunities"
      ],
      "metadata": {
        "id": "m91d6I8i8nXW"
      }
    },
    {
      "cell_type": "markdown",
      "source": [
        "###Update Agent with Simple Instruction - No Instructions on How to Use Tools\n",
        "\n",
        "You can update any and all of the fields of an Agent by specifying them to the Agent.update function. Any fields that aren't specified will not be updated.\n"
      ],
      "metadata": {
        "id": "NECE-StNqEgt"
      }
    },
    {
      "cell_type": "code",
      "source": [
        "SIMPLE_INSTRUCTIONS = \"\"\"\n",
        "You are a friendly chatbot who answers user's questions well.\n",
        "\"\"\"\n",
        "\n",
        "updated_agent = created_agent.update(\n",
        "    new_display_name=DISPLAY_NAME,\n",
        "    new_instructions=SIMPLE_INSTRUCTIONS,\n",
        "    new_functions=[function_declaration],\n",
        "    new_extensions={\n",
        "        'Search Extension': search_extension,\n",
        "        'Webpage Browser Extension': webpage_browser_extension,\n",
        "    }\n",
        ")"
      ],
      "metadata": {
        "id": "D8LI0M4AqEg4"
      },
      "execution_count": null,
      "outputs": []
    },
    {
      "cell_type": "code",
      "source": [
        "session = app.start_session()"
      ],
      "metadata": {
        "collapsed": true,
        "id": "8H_M2G2gqEg4"
      },
      "execution_count": null,
      "outputs": []
    },
    {
      "cell_type": "markdown",
      "source": [
        "#### Example: Ask Cymbal Agent to Retrieve info from Cymbal San Francisco Exclusive Off-Market Listings"
      ],
      "metadata": {
        "id": "ZQuzU8VMqEg4"
      }
    },
    {
      "cell_type": "markdown",
      "source": [
        "In this example, we ask the agent to answer question from off-market listings datasource. Since we didn't give it clear instructions on how to use tools, the agent doesn't know how to answer those questions.\n",
        "\n",
        "In the next section, we will give better instructions on how to use tools. And you will see the difference in the response."
      ],
      "metadata": {
        "id": "qLHxQsO24m7l"
      }
    },
    {
      "cell_type": "code",
      "source": [
        "session.run(\"Can you summarize property information around Noe Valley from Cymbal Exclusive Off-Market Listings?\")"
      ],
      "metadata": {
        "id": "oMNClqoaqEg4"
      },
      "execution_count": null,
      "outputs": []
    },
    {
      "cell_type": "markdown",
      "source": [
        "###Update Agent with Clear Instructions on How to Use Tools\n",
        "\n",
        "You can update any and all of the fields of an Agent by specifying them to the Agent.update function. Any fields that aren't specified will not be updated. The reason why we don't add new_functions and new_extensions is that we have already added them in the last step.\n"
      ],
      "metadata": {
        "id": "SV-NgXCjt8F_"
      }
    },
    {
      "cell_type": "code",
      "source": [
        "INSTRUCTIONS = \"\"\"\n",
        "You are an expert who answers the user's housing investment opportunities questions with the most relevant datasource.\n",
        "\n",
        "If the user asks you questions about sales records, call extract_property_sale_records function to extract the information.\n",
        "\n",
        "If the user asks you questions about offmarket listing at Cymbal Real Estate Group, call vertex_ai_search tool to search relevant information.\n",
        "\n",
        "If the user asks you search online to anwser the housing investment questions, please ask the user to provide URLs if the user didn't give you any URLs.\n",
        "After you get the URLs, call webpage_browser tool to search relevant information.\n",
        "\n",
        "If the user asks you to use both tools to answer the questions, you can use both tools and combine the information to answer the question.\n",
        "\n",
        "Please only answer real estate investment related questions.\n",
        "\n",
        "Only respond based on the response of the tool. Do not create your own answers.\n",
        "\"\"\"\n",
        "\n",
        "updated_agent = created_agent.update(\n",
        "    new_display_name=DISPLAY_NAME,\n",
        "    new_instructions=INSTRUCTIONS,\n",
        ")"
      ],
      "metadata": {
        "id": "dkI-VM22Icsw"
      },
      "execution_count": null,
      "outputs": []
    },
    {
      "cell_type": "code",
      "source": [
        "session = app.start_session()"
      ],
      "metadata": {
        "id": "QvZcfYXOsVgL",
        "collapsed": true
      },
      "execution_count": null,
      "outputs": []
    },
    {
      "cell_type": "markdown",
      "source": [
        "#### Example 1: Ask Cymbal Agent to Retrieve info from Cymbal San Francisco Exclusive Off-Market Listings\n",
        "\n",
        "In this example, we ask the agent to answer question from off-market listings datasource. Since we mentioned the datasource, the agent will follow the instructions to retrieve it from vertex ai search datastore.\n",
        "\n",
        "* There are a lot of information you can use from the response. You can get agent text response from .content.\n",
        "* You can see which tools the agent use by checking actions[1].tool_use.extension_invocation in the response.\n",
        "* You can check which documents the agent retrieved by checking actions[1].tool_use.output_parameters[\"content\"] in the response.\n",
        "\n",
        "Feel free to print out response to check out all the fields."
      ],
      "metadata": {
        "id": "ua9u2j0CNteH"
      }
    },
    {
      "cell_type": "code",
      "source": [
        "response = session.run(\"Can you summarize property information around Noe Valley from Cymbal Exclusive Off-Market Listings?\")"
      ],
      "metadata": {
        "id": "_CnkVE9m_au3",
        "collapsed": true
      },
      "execution_count": null,
      "outputs": []
    },
    {
      "cell_type": "code",
      "source": [
        "response.content"
      ],
      "metadata": {
        "colab": {
          "base_uri": "https://localhost:8080/"
        },
        "id": "8dDCegbu2mcR",
        "outputId": "cb0e5370-8de5-405a-8087-812b061490c0"
      },
      "execution_count": null,
      "outputs": [
        {
          "output_type": "execute_result",
          "data": {
            "text/plain": [
              "role: \"model\"\n",
              "parts {\n",
              "  text: \"1433 Noe Street in Noe Valley is a Modern Townhouse with 4 beds, 3.5 baths and 3,800 sq. ft.. It has Roof deck with city views, open floor plan, EV charger. \\n\"\n",
              "}"
            ]
          },
          "metadata": {},
          "execution_count": 26
        }
      ]
    },
    {
      "cell_type": "code",
      "source": [
        "response"
      ],
      "metadata": {
        "id": "kA8eq7DoxFyw"
      },
      "execution_count": null,
      "outputs": []
    },
    {
      "cell_type": "markdown",
      "source": [
        "#### Example 2: Ask for URLs and use webpage browser extension to retrieve information from the websites\n",
        "\n",
        "In this example, we ask the agent to answer questions by using webpage browser extension tool. As you can see in the response below, it called the webpage browser extension. Output_parameters[\"content\"] includes all the content the agent retrived using the webpage browser extension."
      ],
      "metadata": {
        "id": "K3CI5yymUOKN"
      }
    },
    {
      "cell_type": "code",
      "source": [
        "response = session.run(\"\"\"Can you summarize Noe Valley real estate investment opportunities from here:\n",
        "https://www.bcre.co/blog-news/navigating-the-market-discovering-the-most-promising-neighbourhoods-for-real-estate-investment-in-san-francisco/?\"\"\")"
      ],
      "metadata": {
        "id": "MLRScdrYT8tT"
      },
      "execution_count": null,
      "outputs": []
    },
    {
      "cell_type": "code",
      "source": [
        "response.content"
      ],
      "metadata": {
        "colab": {
          "base_uri": "https://localhost:8080/"
        },
        "id": "t5Nhdy9j7ZJn",
        "outputId": "98afc409-7e72-429c-ea84-eff2aea48338"
      },
      "execution_count": null,
      "outputs": [
        {
          "output_type": "execute_result",
          "data": {
            "text/plain": [
              "role: \"model\"\n",
              "parts {\n",
              "  text: \"Noe Valley is a highly sought-after neighborhood known for its picturesque streets and family-friendly atmosphere. The area boasts a tight-knit community and excellent schools, making it a top choice for families. With its well-maintained Victorian and Edwardian homes, Noe Valley offers a classic San Francisco charm combined with a high potential for return on investment. \\n\"\n",
              "}"
            ]
          },
          "metadata": {},
          "execution_count": 29
        }
      ]
    },
    {
      "cell_type": "code",
      "source": [
        "response"
      ],
      "metadata": {
        "id": "z1B_GGD97WLW"
      },
      "execution_count": null,
      "outputs": []
    },
    {
      "cell_type": "markdown",
      "source": [
        "#### Example 3: Use both extensions to do research\n",
        "\n",
        "In this example, we ask the agent to call both tools to do the research. As you can see in the response below, it called both vertex AI search and webpage browser extension tools. Output_parameters[\"content\"] includes all the content the agent retrived using both extensions."
      ],
      "metadata": {
        "id": "rFi2UeH5VisX"
      }
    },
    {
      "cell_type": "code",
      "source": [
        "response = session.run(\"\"\"Can you summarize Noe Valley real estate investment opportunities from Cymbal Exclusive Off-Market Listings and here:\n",
        "https://www.bcre.co/blog-news/navigating-the-market-discovering-the-most-promising-neighbourhoods-for-real-estate-investment-in-san-francisco/?\"\"\")"
      ],
      "metadata": {
        "id": "ThMdHyom2TWU"
      },
      "execution_count": null,
      "outputs": []
    },
    {
      "cell_type": "code",
      "source": [
        "response.content"
      ],
      "metadata": {
        "colab": {
          "base_uri": "https://localhost:8080/"
        },
        "id": "oVrrOWWa7zTM",
        "outputId": "9ceeb2fb-eeed-4d55-f514-ecab4ec03a58"
      },
      "execution_count": null,
      "outputs": [
        {
          "output_type": "execute_result",
          "data": {
            "text/plain": [
              "role: \"model\"\n",
              "parts {\n",
              "  text: \"Noe Valley is a desirable neighborhood for families due to its excellent schools, tight-knit community, and picturesque streets. It\\'s known for well-maintained Victorian and Edwardian homes and offers a high potential for return on investment. Cymbal Exclusive Off-Market Listings has a modern townhouse in Noe Valley with 4 beds, 3.5 baths, a roof deck, an open floor plan, and an EV charger. There are also several upcoming properties in Noe Valley. For more detailed information, reach out to Cymbal Real Estate Group.\\n\"\n",
              "}"
            ]
          },
          "metadata": {},
          "execution_count": 32
        }
      ]
    },
    {
      "cell_type": "code",
      "source": [
        "response"
      ],
      "metadata": {
        "id": "1W_9DbZc7xj6"
      },
      "execution_count": null,
      "outputs": []
    },
    {
      "cell_type": "markdown",
      "source": [
        "#### Example 4: Ask non real estate related question\n",
        "\n",
        "In this example, we ask the agent non real estate related question and see if it follows our instructions. As you can see in the response below, the agent followed the instruction and refused to answer the question."
      ],
      "metadata": {
        "id": "R-CkmB69i10s"
      }
    },
    {
      "cell_type": "code",
      "source": [
        "response = session.run(\"\"\"What's the best way to save for retirement?\"\"\")"
      ],
      "metadata": {
        "id": "UoZ2ruMj8h-_"
      },
      "execution_count": null,
      "outputs": []
    },
    {
      "cell_type": "code",
      "source": [
        "response.content"
      ],
      "metadata": {
        "colab": {
          "base_uri": "https://localhost:8080/"
        },
        "id": "DjIAhkDU9Avm",
        "outputId": "2deaf743-3a3e-4391-ec38-852d54b710cc"
      },
      "execution_count": null,
      "outputs": [
        {
          "output_type": "execute_result",
          "data": {
            "text/plain": [
              "role: \"model\"\n",
              "parts {\n",
              "  text: \"I am an expert in real estate investments. I am not qualified to answer your question on retirement savings.\\n\"\n",
              "}"
            ]
          },
          "metadata": {},
          "execution_count": 35
        }
      ]
    },
    {
      "cell_type": "markdown",
      "source": [
        "####Example 5: Agent remembers the information it retrieved earlier\n",
        "\n",
        "In this example, we ask the agent to go deeper in the topics we discussed before to see if the agent remembers previous discussion. As you can see in the response, the agent remembered the info it retrieved before and used the info for the follow-up question."
      ],
      "metadata": {
        "id": "sjpnsIT75JIb"
      }
    },
    {
      "cell_type": "code",
      "source": [
        "response = session.run(\"\"\"Can you summarize real estate investment discussion from reddit? Here is the URL:\n",
        "https://www.reddit.com/r/BayAreaRealEstate/?\"\"\")"
      ],
      "metadata": {
        "id": "an5MFpUY6UjC"
      },
      "execution_count": null,
      "outputs": []
    },
    {
      "cell_type": "code",
      "source": [
        "response.content"
      ],
      "metadata": {
        "id": "gDR0GfPTCi3g",
        "outputId": "b226c5e5-8286-4f16-caa2-d5e750db500f",
        "colab": {
          "base_uri": "https://localhost:8080/"
        }
      },
      "execution_count": null,
      "outputs": [
        {
          "output_type": "execute_result",
          "data": {
            "text/plain": [
              "role: \"model\"\n",
              "parts {\n",
              "  text: \"This Reddit page is for real estate discussion in the Bay Area. Recent discussions include topics such as rent increase disputes, hardwood flooring costs, submitting multiple offers, termite treatment regulations, and becoming a real estate agent in the Bay Area. \\n\\n\\n\"\n",
              "}"
            ]
          },
          "metadata": {},
          "execution_count": 37
        }
      ]
    },
    {
      "cell_type": "code",
      "source": [
        "response = session.run(\"\"\"Can you tell me more about one topic from this reddit disuccsion?\"\"\")"
      ],
      "metadata": {
        "id": "agdq_08t6a2L"
      },
      "execution_count": null,
      "outputs": []
    },
    {
      "cell_type": "code",
      "source": [
        "response.content"
      ],
      "metadata": {
        "colab": {
          "base_uri": "https://localhost:8080/"
        },
        "outputId": "25d136dc-72b4-481d-edcc-1998ec4c17e4",
        "id": "39jPLZfzey9R"
      },
      "execution_count": null,
      "outputs": [
        {
          "output_type": "execute_result",
          "data": {
            "text/plain": [
              "role: \"model\"\n",
              "parts {\n",
              "  text: \"One of the recent discussions on r/BayAreaRealEstate is about a landlord attempting to increase rent by 33% because the tenant\\'s mother-in-law is staying with them for two months to help with their premature infant. \\n\\nThe landlord claims the increase is due to higher water usage and liability concerns, wanting to add the mother-in-law to the lease. The tenant argues this is unfair, especially since there\\'s no mention of guest stay limitations in the lease. \\n\\nThe discussion revolves around tenant rights, lease agreements, and the legality of the landlord\\'s actions. Many users are offering advice and sharing their experiences with similar situations. \\n\"\n",
              "}"
            ]
          },
          "metadata": {},
          "execution_count": 39
        }
      ]
    },
    {
      "cell_type": "markdown",
      "source": [
        "#### Example 6: Agent uses sales record function call to answer questions\n",
        "\n",
        "In this example, we ask the agent to use function call to answer proerty sales records question. For the simplicity of the example, we don't want to call a real API. In order for the agent to use the function call, we need a mock response.\n",
        "\n",
        "For this function, the goal is to retrieve a sale record, we added \"records_response\" field with a mockup sale record in the response for the agent to use. The name of this field and content don't matter that much. The agent uses whatever response you feed it to respond to the user.\n",
        "\n",
        "You can read [the function calling doc](https://cloud.google.com/vertex-ai/generative-ai/docs/multimodal/function-calling#text-samples) to learn more about how to set up response and how use to mocks."
      ],
      "metadata": {
        "id": "Y76F0SHKbN02"
      }
    },
    {
      "cell_type": "code",
      "source": [
        "session.run(\"\"\"Can you retrieve top 1 sales records from property sale records?\"\"\")"
      ],
      "metadata": {
        "id": "Y_Zk9tYrbakU"
      },
      "execution_count": null,
      "outputs": []
    },
    {
      "cell_type": "code",
      "source": [
        "# Mock Response for the API Call\n",
        "session.run(Part.from_function_response(name=\"extract_property_sale_records\", response={\"records_response\": \"\"\"\n",
        "Address: 5678 Divisadero St, San Francisco, CA 94117\n",
        "Sale Date: May 10, 2024\n",
        "Sale Price: $10,525,000\n",
        "Property Type: 2-unit building\n",
        "Bedrooms: 10 (total)\n",
        "Bathrooms: 8 (total)\n",
        "Lot Size: 18,000 sq ft\n",
        "\"\"\"})).content"
      ],
      "metadata": {
        "colab": {
          "base_uri": "https://localhost:8080/"
        },
        "id": "nnXidQziboTp",
        "outputId": "79dbf11c-135d-4f32-cfa8-ed2608fc4f00"
      },
      "execution_count": null,
      "outputs": [
        {
          "output_type": "execute_result",
          "data": {
            "text/plain": [
              "role: \"model\"\n",
              "parts {\n",
              "  text: \"Address: 5678 Divisadero St, San Francisco, CA 94117\\nSale Date: May 10, 2024\\nSale Price: $10,525,000\\nProperty Type: 2-unit building\\nBedrooms: 10 (total)\\nBathrooms: 8 (total)\\nLot Size: 18,000 sq ft\\n\"\n",
              "}"
            ]
          },
          "metadata": {},
          "execution_count": 41
        }
      ]
    },
    {
      "cell_type": "markdown",
      "source": [
        "#### Example 7: Use session history to check what tools model used\n",
        "\n",
        "If you want to look at all the agent conversation history, you can use get_history to do that.\n"
      ],
      "metadata": {
        "id": "xvXxry9Y8f5t"
      }
    },
    {
      "cell_type": "code",
      "source": [
        "session.get_history()"
      ],
      "metadata": {
        "collapsed": true,
        "id": "HSAe_HMW8f54"
      },
      "execution_count": null,
      "outputs": []
    },
    {
      "cell_type": "markdown",
      "source": [
        "#Cleanup\n",
        "\n",
        "Clean up resources created in this notebook.\n",
        "\n"
      ],
      "metadata": {
        "id": "fjCPA4Nvysu5"
      }
    },
    {
      "cell_type": "markdown",
      "source": [
        "When your print out session, you will see - name: \"xxxxx\". That \"xxxxx\" is the session id. For example, for me, session id is \"projects/742157128610/locations/us-central1/apps/5703597821832200192/sessions/8374492435362873344\""
      ],
      "metadata": {
        "id": "fzAF1gbEFAoL"
      }
    },
    {
      "cell_type": "code",
      "source": [
        "session"
      ],
      "metadata": {
        "id": "Ef0TDvCwzWVu"
      },
      "execution_count": null,
      "outputs": []
    },
    {
      "cell_type": "markdown",
      "source": [
        "To delete Session, uncomment and run:"
      ],
      "metadata": {
        "id": "OnsquSUFFgwz"
      }
    },
    {
      "cell_type": "code",
      "source": [
        "#app.delete_session('You session id') #Follow the instruction above to find your session id."
      ],
      "metadata": {
        "id": "9AHX-qgAOqK4",
        "collapsed": true
      },
      "execution_count": null,
      "outputs": []
    },
    {
      "cell_type": "markdown",
      "source": [
        "To delete agent, uncomment and run. Using either the display name or the fully qualified resource name, you can delete a specific agent under the App."
      ],
      "metadata": {
        "id": "ITlBn56Eyju5"
      }
    },
    {
      "cell_type": "code",
      "source": [
        "#app.delete_agent('Cymbal Real Estate Research Agent')"
      ],
      "metadata": {
        "id": "SQihs5HIyju5"
      },
      "execution_count": null,
      "outputs": []
    },
    {
      "cell_type": "markdown",
      "source": [
        "To delete your app, uncomment and run:\n"
      ],
      "metadata": {
        "id": "0ickTrbv3NU0"
      }
    },
    {
      "cell_type": "code",
      "source": [
        "#app.delete(app.app_name)"
      ],
      "metadata": {
        "id": "cX8O3JuvkFZM"
      },
      "execution_count": null,
      "outputs": []
    },
    {
      "cell_type": "markdown",
      "source": [
        "To delete both extensions you used in the notebook, uncomment and run:"
      ],
      "metadata": {
        "id": "f9cklkMRd9Ce"
      }
    },
    {
      "cell_type": "code",
      "source": [
        "# webpage_browser_extension.delete()\n",
        "# search_extension.delete()"
      ],
      "metadata": {
        "id": "FTy04HZEd8GO"
      },
      "execution_count": null,
      "outputs": []
    },
    {
      "cell_type": "markdown",
      "source": [
        "To delete the GCS bucket, uncomment and run:"
      ],
      "metadata": {
        "id": "JsY1q1VOeHVm"
      }
    },
    {
      "cell_type": "code",
      "source": [
        "# Delete contents of the bucket and the bucket\n",
        "#!gsutil -m rm -r gs://$GCS_BUCKET"
      ],
      "metadata": {
        "id": "a5j3rNxMeGAr"
      },
      "execution_count": null,
      "outputs": []
    },
    {
      "cell_type": "markdown",
      "source": [
        "Don't forget to delete any other created assets if you don't need them, e.g. the Vertex AI data store and search app (you need to delete them from the Google Cloud Console).\n",
        "\n",
        "Your Vertex AI Search app: https://console.cloud.google.com/gen-app-builder/engines\n",
        "Your Vertex AI Search data store: https://console.cloud.google.com/gen-app-builder/data-stores"
      ],
      "metadata": {
        "id": "dmhkt9R6eVNY"
      }
    }
  ]
}