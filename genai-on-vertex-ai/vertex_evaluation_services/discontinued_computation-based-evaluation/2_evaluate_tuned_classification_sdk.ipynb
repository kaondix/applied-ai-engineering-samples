{
 "cells": [
  {
   "cell_type": "code",
   "execution_count": null,
   "metadata": {},
   "outputs": [],
   "source": [
    "# Copyright 2023 Google LLC\n",
    "#\n",
    "# Licensed under the Apache License, Version 2.0 (the \"License\");\n",
    "# you may not use this file except in compliance with the License.\n",
    "# You may obtain a copy of the License at\n",
    "#\n",
    "#     https://www.apache.org/licenses/LICENSE-2.0\n",
    "#\n",
    "# Unless required by applicable law or agreed to in writing, software\n",
    "# distributed under the License is distributed on an \"AS IS\" BASIS,\n",
    "# WITHOUT WARRANTIES OR CONDITIONS OF ANY KIND, either express or implied.\n",
    "# See the License for the specific language governing permissions and\n",
    "# limitations under the License."
   ]
  },
  {
   "cell_type": "markdown",
   "metadata": {},
   "source": [
    "| | |\n",
    "|----------|-------------|\n",
    "| Author(s)   | Renato Leite (renatoleite@), Egon Soares (egon@) |\n",
    "| Last updated | 07/09/2024 |"
   ]
  },
  {
   "cell_type": "markdown",
   "metadata": {},
   "source": [
    "# =============== DISCONTINUED ==========================\n",
    "# LLM Evaluation workflow for a Classification task using a tuned model and Vertex AI SDK\n",
    "\n",
    "In this notebook, we will explore various aspects related to running the Vertex LLM evaluation pipeline. Our journey will encompass the following key stages:\n",
    "\n",
    "1. **Data Preparation**: Before we dive into the evaluation process, we will ensure that our data is properly prepared and ready to be input into the pipeline.\n",
    "\n",
    "2. **Model Tuning**: We will optimize model performance through tuning. Additionally, we will track the progress of the tuning job using a managed Tensorboard instance.\n",
    "\n",
    "3. **Evaluation with Tuned Model**: Following model tuning, we will execute the evaluation phase using the tuned model.\n",
    "\n",
    "4. **Metric Analysis**: After completing the evaluation, we will visualize all the metrics within the Vertex AI Model Registry. This step is crucial for assessing the effectiveness of our tuned model."
   ]
  },
  {
   "cell_type": "markdown",
   "metadata": {},
   "source": [
    "### Reference Architecture"
   ]
  },
  {
   "cell_type": "markdown",
   "metadata": {},
   "source": [
    "<img src=\"./images/notebook2.png\" style=\"width:800px\">"
   ]
  },
  {
   "cell_type": "markdown",
   "metadata": {},
   "source": [
    "### Install required python packages"
   ]
  },
  {
   "cell_type": "code",
   "execution_count": null,
   "metadata": {},
   "outputs": [],
   "source": [
    "# Install Vertex AI LLM SDK (Private Preview)\n",
    "! pip install -U google-cloud-aiplatform\n",
    "! pip install \"shapely<2.0.0\"\n",
    "\n",
    "# Install HuggingFace Datasets\n",
    "! pip install datasets"
   ]
  },
  {
   "cell_type": "code",
   "execution_count": null,
   "metadata": {},
   "outputs": [],
   "source": [
    "# OPTIONAL (if you are using Colab, restart the Kernel at this point, uncommend and execute the following code)\n",
    "# from google.colab import auth as google_auth\n",
    "# google_auth.authenticate_user()"
   ]
  },
  {
   "cell_type": "markdown",
   "metadata": {},
   "source": [
    "### Import python packages and define project variables"
   ]
  },
  {
   "cell_type": "code",
   "execution_count": null,
   "metadata": {},
   "outputs": [],
   "source": [
    "import pandas as pd\n",
    "import vertexai\n",
    "\n",
    "from google.cloud import aiplatform\n",
    "from datasets import load_dataset, DatasetDict\n",
    "from google.cloud import storage\n",
    "from tabulate import tabulate\n",
    "from vertexai.preview.language_models import (\n",
    "    TextGenerationModel,\n",
    "    EvaluationTextClassificationSpec,\n",
    "    TuningEvaluationSpec\n",
    ")"
   ]
  },
  {
   "cell_type": "markdown",
   "metadata": {},
   "source": [
    "Replace the values of the variables below according to your project specification."
   ]
  },
  {
   "cell_type": "code",
   "execution_count": null,
   "metadata": {},
   "outputs": [],
   "source": [
    "# Project variables\n",
    "PROJECT_ID = \"<YOUR PROJECT ID>\"\n",
    "\n",
    "ENDPOINT_LOCATION = \"us-central1\"\n",
    "STAGING_BUCKET = \"gs://<YOUR BUCKET NAME>\"    # In the same location as ENDPOINT_LOCATION\n",
    "\n",
    "TUNING_JOB_LOCATION = \"us-central1\"\n",
    "DATA_STAGING_GCS_LOCATION = \"gs://<YOUR BUCKET NAME>\"    # In the same location as TUNING_JOB_LOCATION\n",
    "\n",
    "storage_client = storage.Client()\n",
    "vertexai.init(project=PROJECT_ID, location=ENDPOINT_LOCATION, staging_bucket=STAGING_BUCKET)\n",
    "aiplatform.init(project=PROJECT_ID, location=ENDPOINT_LOCATION, staging_bucket=STAGING_BUCKET)"
   ]
  },
  {
   "cell_type": "markdown",
   "metadata": {},
   "source": [
    "### Create a Vertex AI TensorBoard instance\n",
    "\n",
    "The Adapter Tuning pipeline can log the training metrics for tracking and retrospective analysis. \n",
    "\n",
    "Create an instance of Vertex AI Tensorboard that will be used by tuning pipeline runs. \n",
    "\n",
    "If you want to reuse an existing instance, skip the following cell and set the `tensorboard_id` variable to your instance ID. Note that the instance must be in the same region where the tuning jobs will run."
   ]
  },
  {
   "cell_type": "code",
   "execution_count": null,
   "metadata": {},
   "outputs": [],
   "source": [
    "display_name = 'llm-eval-tensorboard-notebook-2'\n",
    "\n",
    "tensorboard = aiplatform.Tensorboard.create(\n",
    "        display_name=display_name,\n",
    "        project=PROJECT_ID,\n",
    "        location=TUNING_JOB_LOCATION,\n",
    "    )\n",
    "\n",
    "print(tensorboard.display_name)\n",
    "print(tensorboard.resource_name)"
   ]
  },
  {
   "cell_type": "code",
   "execution_count": null,
   "metadata": {},
   "outputs": [],
   "source": [
    "# Example: 'projects/244831775715/locations/us-central1/tensorboards/1704616857006243840'\n",
    "# Replace with your Tensorboard resouce name\n",
    "tensorboard_id = '<YOUR TENSORBOARD RESOURCE NAME>'"
   ]
  },
  {
   "cell_type": "markdown",
   "metadata": {},
   "source": [
    "## Prepare training dataset\n",
    "\n",
    "In this lab, you are going to tune the **text-bison** foundation model for a single label text classification task. You are going to use the `dair-ai/emotion` dataset from HuggingFace."
   ]
  },
  {
   "cell_type": "code",
   "execution_count": null,
   "metadata": {},
   "outputs": [],
   "source": [
    "dataset = load_dataset('dair-ai/emotion')\n",
    "print(dataset)\n",
    "print(dataset['test'][0:2])"
   ]
  },
  {
   "cell_type": "code",
   "execution_count": null,
   "metadata": {},
   "outputs": [],
   "source": [
    "splits = {k:v for (k,v) in zip(['train', 'validation', 'test'],\n",
    "                                 load_dataset('dair-ai/emotion', split=['train[0:7200]', 'validation[0:256]', 'test[0:256]']))}\n",
    "dataset = DatasetDict(splits)\n",
    "dataset"
   ]
  },
  {
   "cell_type": "markdown",
   "metadata": {},
   "source": [
    "### Convert to the format required by the tuning pipeline\n",
    "\n",
    "Your model tuning dataset must be in JSON Lines (JSONL) format where each line contains a single tuning example. Each example is composed of an `input_text` field that contains the prompt to the model and an `output_text` field that contains an example response that the tuned model is expected to produce. The maximum token length for input_text is 8,192 and the maximum token length for output_text is 1,024. If either fields exceed the maximum token length, the excess tokens are truncated.\n",
    "\n",
    "The examples included in your dataset should match your expected production traffic. If your dataset contains specific formatting, keywords, instructions, or information, the production data should be formatted in the same way and contain the same instructions.\n",
    "\n",
    "For example, if the examples in your dataset include a `\"question:\"` and a `\"context:\"`, production traffic should also be formatted to include a `\"question:\"` and a `\"context:\"` in the same order as it appears in the dataset examples. If you exclude the context, the model will not recognize the pattern, even if the exact question was in an example in the dataset.\n",
    "\n",
    "For tasks such as classification, it is possible to create a dataset of examples that don't contain instructions. However, excluding instructions from the examples in the dataset leads to worse performance after tuning than including instructions, especially for smaller datasets.\n",
    "\n",
    "For our dataset, we are going to add the following instructions\n",
    "\n",
    "```\n",
    "Classify the following as one of the following categories:\n",
    "- sadness,\n",
    "- joy,\n",
    "Text:"
   ]
  },
  {
   "cell_type": "code",
   "execution_count": null,
   "metadata": {},
   "outputs": [],
   "source": [
    "class_labels = {\n",
    "    0: 'sadness',\n",
    "    1: 'joy',\n",
    "    2: 'love',\n",
    "    3: 'anger',\n",
    "    4: 'fear',\n",
    "    5: 'surprise'\n",
    "}\n",
    "\n",
    "class_labels.values()"
   ]
  },
  {
   "cell_type": "code",
   "execution_count": null,
   "metadata": {},
   "outputs": [],
   "source": [
    "instructions = f'''Classify the following text into one of the following classes: \n",
    "[{', '.join(class_labels.values())}]\n",
    "Text:\n",
    "'''\n",
    "\n",
    "def add_instructions(example, instructions):\n",
    "    example[\"input_text\"] = f'{instructions}{example[\"text\"]}'\n",
    "    example[\"output_text\"] = class_labels[example[\"label\"]]\n",
    "    return example\n",
    "\n",
    "tuning_dataset = dataset.map(lambda x: add_instructions(x, instructions)).remove_columns(['text', 'label'])\n",
    "\n",
    "print(tuning_dataset)\n",
    "print(tuning_dataset['train'][:1])"
   ]
  },
  {
   "cell_type": "markdown",
   "metadata": {},
   "source": [
    "### Export the dataset splits to GCS"
   ]
  },
  {
   "cell_type": "code",
   "execution_count": null,
   "metadata": {},
   "outputs": [],
   "source": [
    "gcs_uris = {}\n",
    "filename_prefix = 'emotion'\n",
    "\n",
    "for split_name, split_data in tuning_dataset.items():\n",
    "    jsonl_filename = f'{filename_prefix}-{split_name}.jsonl'\n",
    "    gcs_uri = f'{DATA_STAGING_GCS_LOCATION}/{jsonl_filename}'\n",
    "    gcs_uris[split_name] = gcs_uri\n",
    "    split_data.to_json(jsonl_filename)\n",
    "    !gsutil cp {jsonl_filename} {gcs_uri}"
   ]
  },
  {
   "cell_type": "markdown",
   "metadata": {},
   "source": [
    "## Run a tuning pipeline\n",
    "\n",
    "The key parameters used to configure a run of the tuning pipeline are as follows:\n",
    "* `model_display_name` - a display name of the deployed adapter\n",
    "* `location` - a region where the adapter endpoint will be deployed\n",
    "* `dataset_uri` - a GCS location of the training split\n",
    "* `evaluation_data_uri` - a GCS location of the validation split\n",
    "* `train_steps` - a number of steps to train for\n",
    "* `evaluation_interval` - training metrics are generated every `evaluation_interval` steps\n",
    "* `tensorboard_resource_id` - an ID of a Tensorboard instance to use for tracking\n",
    "* `large_model_reference` - the name of the base foundation model to tune\n",
    "\n",
    "There are other parameters that can be configured, including parameters controlling a learning rate. In this lab we use the default values."
   ]
  },
  {
   "cell_type": "code",
   "execution_count": null,
   "metadata": {},
   "outputs": [],
   "source": [
    "model = TextGenerationModel.from_pretrained(\"text-bison@001\")"
   ]
  },
  {
   "cell_type": "code",
   "execution_count": null,
   "metadata": {},
   "outputs": [],
   "source": [
    "train_steps = 50\n",
    "model_display_name = f\"emotion-classification-demo-{train_steps}-steps\"\n",
    "\n",
    "tuning_eval_spec = TuningEvaluationSpec(\n",
    "    evaluation_data = gcs_uris['validation'],\n",
    "    evaluation_interval = 20,\n",
    "    tensorboard = tensorboard_id\n",
    ")"
   ]
  },
  {
   "cell_type": "code",
   "execution_count": null,
   "metadata": {},
   "outputs": [],
   "source": [
    "TUNING_JOB_LOCATION"
   ]
  },
  {
   "cell_type": "code",
   "execution_count": null,
   "metadata": {},
   "outputs": [],
   "source": [
    "model.tune_model(\n",
    "    training_data=gcs_uris['train'],\n",
    "    train_steps=train_steps,\n",
    "    tuning_job_location=TUNING_JOB_LOCATION,\n",
    "    tuned_model_location=ENDPOINT_LOCATION,\n",
    "    model_display_name=model_display_name,\n",
    "    tuning_evaluation_spec=tuning_eval_spec\n",
    ")"
   ]
  },
  {
   "cell_type": "markdown",
   "metadata": {},
   "source": [
    "# Evaluating the tuned model"
   ]
  },
  {
   "cell_type": "code",
   "execution_count": null,
   "metadata": {},
   "outputs": [],
   "source": [
    "test_split_filename = 'emotion-test.jsonl'\n",
    "test_split = load_dataset('json',\n",
    "                          data_files={'test': test_split_filename})\n",
    "evaluation_dataset = test_split.rename_column('input_text', 'prompt').rename_column('output_text', 'ground_truth')\n",
    "\n",
    "print(evaluation_dataset)\n",
    "print(evaluation_dataset['test'][0])"
   ]
  },
  {
   "cell_type": "code",
   "execution_count": null,
   "metadata": {},
   "outputs": [],
   "source": [
    "model = TextGenerationModel.from_pretrained('text-bison@001')\n",
    "tuned_model_names = model.list_tuned_model_names()\n",
    "print(tuned_model_names)"
   ]
  },
  {
   "cell_type": "code",
   "execution_count": null,
   "metadata": {},
   "outputs": [],
   "source": [
    "# Replace with one of the tuned model resource name\n",
    "# Example: tuned_model_name = 'projects/244831775715/locations/us-central1/models/1807691674063732736'\n",
    "tuned_model_name = '<REPLACE WITH TUNED MODEL RESOURCE NAME>'\n",
    "tuned_model = TextGenerationModel.get_tuned_model(tuned_model_name)"
   ]
  },
  {
   "cell_type": "code",
   "execution_count": null,
   "metadata": {},
   "outputs": [],
   "source": [
    "task_spec_classification = EvaluationTextClassificationSpec(\n",
    "    ground_truth_data=pd.DataFrame(evaluation_dataset['test']),\n",
    "    class_names=['sadness', 'joy', 'love', 'anger', 'fear', 'surprise'],\n",
    "    target_column_name='ground_truth'\n",
    ")"
   ]
  },
  {
   "cell_type": "code",
   "execution_count": null,
   "metadata": {},
   "outputs": [],
   "source": [
    "metrics = tuned_model.evaluate(task_spec=task_spec_classification)\n",
    "metrics"
   ]
  }
 ],
 "metadata": {
  "kernelspec": {
   "display_name": "Python 3 (ipykernel)",
   "language": "python",
   "name": "python3"
  },
  "language_info": {
   "codemirror_mode": {
    "name": "ipython",
    "version": 3
   },
   "file_extension": ".py",
   "mimetype": "text/x-python",
   "name": "python",
   "nbconvert_exporter": "python",
   "pygments_lexer": "ipython3",
   "version": "3.11.2"
  }
 },
 "nbformat": 4,
 "nbformat_minor": 4
}
